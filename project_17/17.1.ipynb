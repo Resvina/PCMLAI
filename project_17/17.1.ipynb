{
 "cells": [
  {
   "cell_type": "code",
   "execution_count": 578,
   "id": "8a9a2d73",
   "metadata": {},
   "outputs": [],
   "source": [
    "import matplotlib.pyplot as plt\n",
    "import pandas as pd\n",
    "import numpy as np\n",
    "import seaborn as sns\n",
    "import plotly.express as px\n",
    "import scipy.stats as stats\n",
    "import pylab as pl\n",
    "\n",
    "from sklearn.compose import make_column_transformer, TransformedTargetRegressor\n",
    "from sklearn.pipeline import Pipeline\n",
    "from sklearn.linear_model import LogisticRegression\n",
    "from sklearn.preprocessing import StandardScaler,OneHotEncoder\n",
    "from sklearn.model_selection import train_test_split, GridSearchCV\n",
    "from sklearn.neighbors import KNeighborsClassifier\n",
    "from sklearn.svm import SVC\n",
    "from sklearn.tree import DecisionTreeClassifier, plot_tree\n",
    "\n",
    "import warnings\n",
    "warnings.filterwarnings('ignore')\n",
    "\n",
    "from sklearn import set_config\n",
    "set_config(display=\"diagram\")\n",
    "\n",
    "from sklearn.metrics import roc_curve\n",
    "from sklearn.metrics import roc_auc_score\n",
    "from sklearn.metrics import roc_auc_score,precision_recall_curve, roc_curve,confusion_matrix,accuracy_score, recall_score, precision_score,plot_confusion_matrix, ConfusionMatrixDisplay\n",
    "from sklearn.metrics import mean_squared_error"
   ]
  },
  {
   "cell_type": "markdown",
   "id": "dbbc2604",
   "metadata": {},
   "source": [
    "<h2 style=\"color:red;\">Business Understanding</h2>"
   ]
  },
  {
   "cell_type": "markdown",
   "id": "c7c61ee7",
   "metadata": {},
   "source": [
    "<p>The Business goal is  to come up with the best machine learning classification model to predict if a future client will subscribe a term deposit or not based on several independent variables such as education level, marital status, if has housing loan or not, personal loan or not, etc. The best machine learning classification model is selected by ranking up four different machine learning models: KNeighborsClassifier, Logistic Regression, Support Vector Machine, and Decision Tree by their metrics and other indicators such as the Precision-recal curve, and confusion matrix. The dataset used to train those four models is related to the marketing of bank products over the telephone as mentioned before. The analysis will be done using python & jupyter notebook.</p>"
   ]
  },
  {
   "cell_type": "markdown",
   "id": "4d768a97",
   "metadata": {},
   "source": [
    "The original dataset, named \"bank-full.csv,\" is formatted as a .csv file and comprises 17 columns with a total of 6316 rows. Among these columns, the target/independent variable is denoted as \"y,\" and it is a categorical (nominal feature) representing whether the client has subscribed to a term deposit. Notably, this variable exhibits an imbalance, as will become evident later. In addition to \"y,\" only two other columns, namely \"age\" and \"balance,\" are numerical in nature. The column \"duration\" is included primarily for benchmarking purposes and should be omitted if the goal is to construct a realistic predictive model. The remaining columns in the dataset are categorical (nominal).\n",
    "\n",
    "As a consequence, a significant portion of the dataset provided exhibits imbalance even before entering the modeling phase. It's worth mentioning that none of the columns contain \"NaN\" values, and no duplicates were identified. To gain a deeper understanding of this dataset, it is advisable to initiate a data preparation phase, involving data cleaning processes, as a preliminary step."
   ]
  },
  {
   "cell_type": "markdown",
   "id": "61292365",
   "metadata": {},
   "source": [
    "<h5>Read in the bank-full.csv file.</h5>"
   ]
  },
  {
   "cell_type": "code",
   "execution_count": 579,
   "id": "774dbfbd",
   "metadata": {},
   "outputs": [],
   "source": [
    "df = pd.read_csv('Downloads/bank-full.csv')"
   ]
  },
  {
   "cell_type": "code",
   "execution_count": 580,
   "id": "17732c5b",
   "metadata": {},
   "outputs": [
    {
     "name": "stdout",
     "output_type": "stream",
     "text": [
      "<class 'pandas.core.frame.DataFrame'>\n",
      "RangeIndex: 45211 entries, 0 to 45210\n",
      "Data columns (total 17 columns):\n",
      " #   Column     Non-Null Count  Dtype \n",
      "---  ------     --------------  ----- \n",
      " 0   age        45211 non-null  int64 \n",
      " 1   job        45211 non-null  object\n",
      " 2   marital    45211 non-null  object\n",
      " 3   education  45211 non-null  object\n",
      " 4   default    45211 non-null  object\n",
      " 5   balance    45211 non-null  int64 \n",
      " 6   housing    45211 non-null  object\n",
      " 7   loan       45211 non-null  object\n",
      " 8   contact    45211 non-null  object\n",
      " 9   day        45211 non-null  int64 \n",
      " 10  month      45211 non-null  object\n",
      " 11  duration   45211 non-null  int64 \n",
      " 12  campaign   45211 non-null  int64 \n",
      " 13  pdays      45211 non-null  int64 \n",
      " 14  previous   45211 non-null  int64 \n",
      " 15  poutcome   45211 non-null  object\n",
      " 16  y          45211 non-null  object\n",
      "dtypes: int64(7), object(10)\n",
      "memory usage: 5.9+ MB\n"
     ]
    }
   ],
   "source": [
    "df.info()"
   ]
  },
  {
   "cell_type": "code",
   "execution_count": 558,
   "id": "86d84d06",
   "metadata": {},
   "outputs": [
    {
     "data": {
      "text/html": [
       "<div>\n",
       "<style scoped>\n",
       "    .dataframe tbody tr th:only-of-type {\n",
       "        vertical-align: middle;\n",
       "    }\n",
       "\n",
       "    .dataframe tbody tr th {\n",
       "        vertical-align: top;\n",
       "    }\n",
       "\n",
       "    .dataframe thead th {\n",
       "        text-align: right;\n",
       "    }\n",
       "</style>\n",
       "<table border=\"1\" class=\"dataframe\">\n",
       "  <thead>\n",
       "    <tr style=\"text-align: right;\">\n",
       "      <th></th>\n",
       "      <th>age</th>\n",
       "      <th>job</th>\n",
       "      <th>marital</th>\n",
       "      <th>education</th>\n",
       "      <th>default</th>\n",
       "      <th>balance</th>\n",
       "      <th>housing</th>\n",
       "      <th>loan</th>\n",
       "      <th>contact</th>\n",
       "      <th>day</th>\n",
       "      <th>month</th>\n",
       "      <th>duration</th>\n",
       "      <th>campaign</th>\n",
       "      <th>pdays</th>\n",
       "      <th>previous</th>\n",
       "      <th>poutcome</th>\n",
       "      <th>y</th>\n",
       "    </tr>\n",
       "  </thead>\n",
       "  <tbody>\n",
       "    <tr>\n",
       "      <th>0</th>\n",
       "      <td>58</td>\n",
       "      <td>management</td>\n",
       "      <td>married</td>\n",
       "      <td>tertiary</td>\n",
       "      <td>no</td>\n",
       "      <td>2143</td>\n",
       "      <td>yes</td>\n",
       "      <td>no</td>\n",
       "      <td>unknown</td>\n",
       "      <td>5</td>\n",
       "      <td>may</td>\n",
       "      <td>261</td>\n",
       "      <td>1</td>\n",
       "      <td>-1</td>\n",
       "      <td>0</td>\n",
       "      <td>unknown</td>\n",
       "      <td>no</td>\n",
       "    </tr>\n",
       "    <tr>\n",
       "      <th>1</th>\n",
       "      <td>44</td>\n",
       "      <td>technician</td>\n",
       "      <td>single</td>\n",
       "      <td>secondary</td>\n",
       "      <td>no</td>\n",
       "      <td>29</td>\n",
       "      <td>yes</td>\n",
       "      <td>no</td>\n",
       "      <td>unknown</td>\n",
       "      <td>5</td>\n",
       "      <td>may</td>\n",
       "      <td>151</td>\n",
       "      <td>1</td>\n",
       "      <td>-1</td>\n",
       "      <td>0</td>\n",
       "      <td>unknown</td>\n",
       "      <td>no</td>\n",
       "    </tr>\n",
       "    <tr>\n",
       "      <th>2</th>\n",
       "      <td>33</td>\n",
       "      <td>entrepreneur</td>\n",
       "      <td>married</td>\n",
       "      <td>secondary</td>\n",
       "      <td>no</td>\n",
       "      <td>2</td>\n",
       "      <td>yes</td>\n",
       "      <td>yes</td>\n",
       "      <td>unknown</td>\n",
       "      <td>5</td>\n",
       "      <td>may</td>\n",
       "      <td>76</td>\n",
       "      <td>1</td>\n",
       "      <td>-1</td>\n",
       "      <td>0</td>\n",
       "      <td>unknown</td>\n",
       "      <td>no</td>\n",
       "    </tr>\n",
       "    <tr>\n",
       "      <th>3</th>\n",
       "      <td>47</td>\n",
       "      <td>blue-collar</td>\n",
       "      <td>married</td>\n",
       "      <td>unknown</td>\n",
       "      <td>no</td>\n",
       "      <td>1506</td>\n",
       "      <td>yes</td>\n",
       "      <td>no</td>\n",
       "      <td>unknown</td>\n",
       "      <td>5</td>\n",
       "      <td>may</td>\n",
       "      <td>92</td>\n",
       "      <td>1</td>\n",
       "      <td>-1</td>\n",
       "      <td>0</td>\n",
       "      <td>unknown</td>\n",
       "      <td>no</td>\n",
       "    </tr>\n",
       "    <tr>\n",
       "      <th>4</th>\n",
       "      <td>33</td>\n",
       "      <td>unknown</td>\n",
       "      <td>single</td>\n",
       "      <td>unknown</td>\n",
       "      <td>no</td>\n",
       "      <td>1</td>\n",
       "      <td>no</td>\n",
       "      <td>no</td>\n",
       "      <td>unknown</td>\n",
       "      <td>5</td>\n",
       "      <td>may</td>\n",
       "      <td>198</td>\n",
       "      <td>1</td>\n",
       "      <td>-1</td>\n",
       "      <td>0</td>\n",
       "      <td>unknown</td>\n",
       "      <td>no</td>\n",
       "    </tr>\n",
       "  </tbody>\n",
       "</table>\n",
       "</div>"
      ],
      "text/plain": [
       "   age           job  marital  education default  balance housing loan  \\\n",
       "0   58    management  married   tertiary      no     2143     yes   no   \n",
       "1   44    technician   single  secondary      no       29     yes   no   \n",
       "2   33  entrepreneur  married  secondary      no        2     yes  yes   \n",
       "3   47   blue-collar  married    unknown      no     1506     yes   no   \n",
       "4   33       unknown   single    unknown      no        1      no   no   \n",
       "\n",
       "   contact  day month  duration  campaign  pdays  previous poutcome   y  \n",
       "0  unknown    5   may       261         1     -1         0  unknown  no  \n",
       "1  unknown    5   may       151         1     -1         0  unknown  no  \n",
       "2  unknown    5   may        76         1     -1         0  unknown  no  \n",
       "3  unknown    5   may        92         1     -1         0  unknown  no  \n",
       "4  unknown    5   may       198         1     -1         0  unknown  no  "
      ]
     },
     "execution_count": 558,
     "metadata": {},
     "output_type": "execute_result"
    }
   ],
   "source": [
    "df.head()"
   ]
  },
  {
   "cell_type": "markdown",
   "id": "24beb5ca",
   "metadata": {},
   "source": [
    "<h5>Investigate the dataset for missing or problematic data.</h5>"
   ]
  },
  {
   "cell_type": "code",
   "execution_count": 413,
   "id": "444a8047",
   "metadata": {},
   "outputs": [
    {
     "data": {
      "text/plain": [
       "age          0\n",
       "job          0\n",
       "marital      0\n",
       "education    0\n",
       "default      0\n",
       "balance      0\n",
       "housing      0\n",
       "loan         0\n",
       "contact      0\n",
       "day          0\n",
       "month        0\n",
       "duration     0\n",
       "campaign     0\n",
       "pdays        0\n",
       "previous     0\n",
       "poutcome     0\n",
       "y            0\n",
       "dtype: int64"
      ]
     },
     "execution_count": 413,
     "metadata": {},
     "output_type": "execute_result"
    }
   ],
   "source": [
    "df.isnull().sum()"
   ]
  },
  {
   "cell_type": "code",
   "execution_count": 414,
   "id": "68e76366",
   "metadata": {},
   "outputs": [
    {
     "data": {
      "text/html": [
       "<div>\n",
       "<style scoped>\n",
       "    .dataframe tbody tr th:only-of-type {\n",
       "        vertical-align: middle;\n",
       "    }\n",
       "\n",
       "    .dataframe tbody tr th {\n",
       "        vertical-align: top;\n",
       "    }\n",
       "\n",
       "    .dataframe thead th {\n",
       "        text-align: right;\n",
       "    }\n",
       "</style>\n",
       "<table border=\"1\" class=\"dataframe\">\n",
       "  <thead>\n",
       "    <tr style=\"text-align: right;\">\n",
       "      <th></th>\n",
       "      <th>age</th>\n",
       "      <th>job</th>\n",
       "      <th>marital</th>\n",
       "      <th>education</th>\n",
       "      <th>default</th>\n",
       "      <th>balance</th>\n",
       "      <th>housing</th>\n",
       "      <th>loan</th>\n",
       "      <th>contact</th>\n",
       "      <th>day</th>\n",
       "      <th>month</th>\n",
       "      <th>duration</th>\n",
       "      <th>campaign</th>\n",
       "      <th>pdays</th>\n",
       "      <th>previous</th>\n",
       "      <th>poutcome</th>\n",
       "      <th>y</th>\n",
       "    </tr>\n",
       "  </thead>\n",
       "  <tbody>\n",
       "  </tbody>\n",
       "</table>\n",
       "</div>"
      ],
      "text/plain": [
       "Empty DataFrame\n",
       "Columns: [age, job, marital, education, default, balance, housing, loan, contact, day, month, duration, campaign, pdays, previous, poutcome, y]\n",
       "Index: []"
      ]
     },
     "execution_count": 414,
     "metadata": {},
     "output_type": "execute_result"
    }
   ],
   "source": [
    "df.loc[df.duplicated()]"
   ]
  },
  {
   "cell_type": "markdown",
   "id": "94fb3bc1",
   "metadata": {},
   "source": [
    "<h2 style=\"color:red;\">Data Preparation</h2>"
   ]
  },
  {
   "cell_type": "markdown",
   "id": "3078b3e4",
   "metadata": {},
   "source": [
    "<h3 style=\"color:red;\">Basic Cleaning</h3>"
   ]
  },
  {
   "cell_type": "code",
   "execution_count": 581,
   "id": "ca9a333f",
   "metadata": {},
   "outputs": [
    {
     "data": {
      "text/html": [
       "<div>\n",
       "<style scoped>\n",
       "    .dataframe tbody tr th:only-of-type {\n",
       "        vertical-align: middle;\n",
       "    }\n",
       "\n",
       "    .dataframe tbody tr th {\n",
       "        vertical-align: top;\n",
       "    }\n",
       "\n",
       "    .dataframe thead th {\n",
       "        text-align: right;\n",
       "    }\n",
       "</style>\n",
       "<table border=\"1\" class=\"dataframe\">\n",
       "  <thead>\n",
       "    <tr style=\"text-align: right;\">\n",
       "      <th></th>\n",
       "      <th>age</th>\n",
       "      <th>job</th>\n",
       "      <th>marital</th>\n",
       "      <th>education</th>\n",
       "      <th>default</th>\n",
       "      <th>balance</th>\n",
       "      <th>housing</th>\n",
       "      <th>loan</th>\n",
       "      <th>contact</th>\n",
       "      <th>day</th>\n",
       "      <th>month</th>\n",
       "      <th>duration</th>\n",
       "      <th>campaign</th>\n",
       "      <th>pdays</th>\n",
       "      <th>previous</th>\n",
       "      <th>poutcome</th>\n",
       "      <th>y</th>\n",
       "    </tr>\n",
       "  </thead>\n",
       "  <tbody>\n",
       "    <tr>\n",
       "      <th>0</th>\n",
       "      <td>58</td>\n",
       "      <td>management</td>\n",
       "      <td>married</td>\n",
       "      <td>tertiary</td>\n",
       "      <td>no</td>\n",
       "      <td>2143</td>\n",
       "      <td>yes</td>\n",
       "      <td>no</td>\n",
       "      <td>unknown</td>\n",
       "      <td>5</td>\n",
       "      <td>may</td>\n",
       "      <td>261</td>\n",
       "      <td>1</td>\n",
       "      <td>-1</td>\n",
       "      <td>0</td>\n",
       "      <td>unknown</td>\n",
       "      <td>no</td>\n",
       "    </tr>\n",
       "    <tr>\n",
       "      <th>1</th>\n",
       "      <td>44</td>\n",
       "      <td>technician</td>\n",
       "      <td>single</td>\n",
       "      <td>secondary</td>\n",
       "      <td>no</td>\n",
       "      <td>29</td>\n",
       "      <td>yes</td>\n",
       "      <td>no</td>\n",
       "      <td>unknown</td>\n",
       "      <td>5</td>\n",
       "      <td>may</td>\n",
       "      <td>151</td>\n",
       "      <td>1</td>\n",
       "      <td>-1</td>\n",
       "      <td>0</td>\n",
       "      <td>unknown</td>\n",
       "      <td>no</td>\n",
       "    </tr>\n",
       "    <tr>\n",
       "      <th>2</th>\n",
       "      <td>33</td>\n",
       "      <td>entrepreneur</td>\n",
       "      <td>married</td>\n",
       "      <td>secondary</td>\n",
       "      <td>no</td>\n",
       "      <td>2</td>\n",
       "      <td>yes</td>\n",
       "      <td>yes</td>\n",
       "      <td>unknown</td>\n",
       "      <td>5</td>\n",
       "      <td>may</td>\n",
       "      <td>76</td>\n",
       "      <td>1</td>\n",
       "      <td>-1</td>\n",
       "      <td>0</td>\n",
       "      <td>unknown</td>\n",
       "      <td>no</td>\n",
       "    </tr>\n",
       "    <tr>\n",
       "      <th>3</th>\n",
       "      <td>47</td>\n",
       "      <td>blue-collar</td>\n",
       "      <td>married</td>\n",
       "      <td>unknown</td>\n",
       "      <td>no</td>\n",
       "      <td>1506</td>\n",
       "      <td>yes</td>\n",
       "      <td>no</td>\n",
       "      <td>unknown</td>\n",
       "      <td>5</td>\n",
       "      <td>may</td>\n",
       "      <td>92</td>\n",
       "      <td>1</td>\n",
       "      <td>-1</td>\n",
       "      <td>0</td>\n",
       "      <td>unknown</td>\n",
       "      <td>no</td>\n",
       "    </tr>\n",
       "    <tr>\n",
       "      <th>4</th>\n",
       "      <td>33</td>\n",
       "      <td>unknown</td>\n",
       "      <td>single</td>\n",
       "      <td>unknown</td>\n",
       "      <td>no</td>\n",
       "      <td>1</td>\n",
       "      <td>no</td>\n",
       "      <td>no</td>\n",
       "      <td>unknown</td>\n",
       "      <td>5</td>\n",
       "      <td>may</td>\n",
       "      <td>198</td>\n",
       "      <td>1</td>\n",
       "      <td>-1</td>\n",
       "      <td>0</td>\n",
       "      <td>unknown</td>\n",
       "      <td>no</td>\n",
       "    </tr>\n",
       "    <tr>\n",
       "      <th>...</th>\n",
       "      <td>...</td>\n",
       "      <td>...</td>\n",
       "      <td>...</td>\n",
       "      <td>...</td>\n",
       "      <td>...</td>\n",
       "      <td>...</td>\n",
       "      <td>...</td>\n",
       "      <td>...</td>\n",
       "      <td>...</td>\n",
       "      <td>...</td>\n",
       "      <td>...</td>\n",
       "      <td>...</td>\n",
       "      <td>...</td>\n",
       "      <td>...</td>\n",
       "      <td>...</td>\n",
       "      <td>...</td>\n",
       "      <td>...</td>\n",
       "    </tr>\n",
       "    <tr>\n",
       "      <th>45206</th>\n",
       "      <td>51</td>\n",
       "      <td>technician</td>\n",
       "      <td>married</td>\n",
       "      <td>tertiary</td>\n",
       "      <td>no</td>\n",
       "      <td>825</td>\n",
       "      <td>no</td>\n",
       "      <td>no</td>\n",
       "      <td>cellular</td>\n",
       "      <td>17</td>\n",
       "      <td>nov</td>\n",
       "      <td>977</td>\n",
       "      <td>3</td>\n",
       "      <td>-1</td>\n",
       "      <td>0</td>\n",
       "      <td>unknown</td>\n",
       "      <td>yes</td>\n",
       "    </tr>\n",
       "    <tr>\n",
       "      <th>45207</th>\n",
       "      <td>71</td>\n",
       "      <td>retired</td>\n",
       "      <td>divorced</td>\n",
       "      <td>primary</td>\n",
       "      <td>no</td>\n",
       "      <td>1729</td>\n",
       "      <td>no</td>\n",
       "      <td>no</td>\n",
       "      <td>cellular</td>\n",
       "      <td>17</td>\n",
       "      <td>nov</td>\n",
       "      <td>456</td>\n",
       "      <td>2</td>\n",
       "      <td>-1</td>\n",
       "      <td>0</td>\n",
       "      <td>unknown</td>\n",
       "      <td>yes</td>\n",
       "    </tr>\n",
       "    <tr>\n",
       "      <th>45208</th>\n",
       "      <td>72</td>\n",
       "      <td>retired</td>\n",
       "      <td>married</td>\n",
       "      <td>secondary</td>\n",
       "      <td>no</td>\n",
       "      <td>5715</td>\n",
       "      <td>no</td>\n",
       "      <td>no</td>\n",
       "      <td>cellular</td>\n",
       "      <td>17</td>\n",
       "      <td>nov</td>\n",
       "      <td>1127</td>\n",
       "      <td>5</td>\n",
       "      <td>184</td>\n",
       "      <td>3</td>\n",
       "      <td>success</td>\n",
       "      <td>yes</td>\n",
       "    </tr>\n",
       "    <tr>\n",
       "      <th>45209</th>\n",
       "      <td>57</td>\n",
       "      <td>blue-collar</td>\n",
       "      <td>married</td>\n",
       "      <td>secondary</td>\n",
       "      <td>no</td>\n",
       "      <td>668</td>\n",
       "      <td>no</td>\n",
       "      <td>no</td>\n",
       "      <td>telephone</td>\n",
       "      <td>17</td>\n",
       "      <td>nov</td>\n",
       "      <td>508</td>\n",
       "      <td>4</td>\n",
       "      <td>-1</td>\n",
       "      <td>0</td>\n",
       "      <td>unknown</td>\n",
       "      <td>no</td>\n",
       "    </tr>\n",
       "    <tr>\n",
       "      <th>45210</th>\n",
       "      <td>37</td>\n",
       "      <td>entrepreneur</td>\n",
       "      <td>married</td>\n",
       "      <td>secondary</td>\n",
       "      <td>no</td>\n",
       "      <td>2971</td>\n",
       "      <td>no</td>\n",
       "      <td>no</td>\n",
       "      <td>cellular</td>\n",
       "      <td>17</td>\n",
       "      <td>nov</td>\n",
       "      <td>361</td>\n",
       "      <td>2</td>\n",
       "      <td>188</td>\n",
       "      <td>11</td>\n",
       "      <td>other</td>\n",
       "      <td>no</td>\n",
       "    </tr>\n",
       "  </tbody>\n",
       "</table>\n",
       "<p>45211 rows × 17 columns</p>\n",
       "</div>"
      ],
      "text/plain": [
       "       age           job   marital  education default  balance housing loan  \\\n",
       "0       58    management   married   tertiary      no     2143     yes   no   \n",
       "1       44    technician    single  secondary      no       29     yes   no   \n",
       "2       33  entrepreneur   married  secondary      no        2     yes  yes   \n",
       "3       47   blue-collar   married    unknown      no     1506     yes   no   \n",
       "4       33       unknown    single    unknown      no        1      no   no   \n",
       "...    ...           ...       ...        ...     ...      ...     ...  ...   \n",
       "45206   51    technician   married   tertiary      no      825      no   no   \n",
       "45207   71       retired  divorced    primary      no     1729      no   no   \n",
       "45208   72       retired   married  secondary      no     5715      no   no   \n",
       "45209   57   blue-collar   married  secondary      no      668      no   no   \n",
       "45210   37  entrepreneur   married  secondary      no     2971      no   no   \n",
       "\n",
       "         contact  day month  duration  campaign  pdays  previous poutcome    y  \n",
       "0        unknown    5   may       261         1     -1         0  unknown   no  \n",
       "1        unknown    5   may       151         1     -1         0  unknown   no  \n",
       "2        unknown    5   may        76         1     -1         0  unknown   no  \n",
       "3        unknown    5   may        92         1     -1         0  unknown   no  \n",
       "4        unknown    5   may       198         1     -1         0  unknown   no  \n",
       "...          ...  ...   ...       ...       ...    ...       ...      ...  ...  \n",
       "45206   cellular   17   nov       977         3     -1         0  unknown  yes  \n",
       "45207   cellular   17   nov       456         2     -1         0  unknown  yes  \n",
       "45208   cellular   17   nov      1127         5    184         3  success  yes  \n",
       "45209  telephone   17   nov       508         4     -1         0  unknown   no  \n",
       "45210   cellular   17   nov       361         2    188        11    other   no  \n",
       "\n",
       "[45211 rows x 17 columns]"
      ]
     },
     "execution_count": 581,
     "metadata": {},
     "output_type": "execute_result"
    }
   ],
   "source": [
    "df.dropna()"
   ]
  },
  {
   "cell_type": "markdown",
   "id": "15e63e0a",
   "metadata": {},
   "source": [
    "<h5>Feature \"unknown\" is contained in several diferent variables, therefore, it was renamed as shown below:</h5>"
   ]
  },
  {
   "cell_type": "code",
   "execution_count": 582,
   "id": "25af6e45",
   "metadata": {},
   "outputs": [],
   "source": [
    "df['job'] = df['job'].replace({'unknown': 'unknown_job'})\n",
    "df['education'] = df['education'].replace({'unknown': 'unknown_education'})\n",
    "df['poutcome'] = df['poutcome'].replace({'unknown': 'unknown_poutcome'})\n",
    "df['contact'] = df['contact'].replace({'unknown': 'unknown_contact'})"
   ]
  },
  {
   "cell_type": "markdown",
   "id": "0f745d17",
   "metadata": {},
   "source": [
    "<p style=\"color:red;\"> Removing values equal to -1 in the column \"pdays\"</p>"
   ]
  },
  {
   "cell_type": "code",
   "execution_count": 583,
   "id": "d57ee0f9",
   "metadata": {},
   "outputs": [],
   "source": [
    "df=df.query('pdays!=-1')"
   ]
  },
  {
   "cell_type": "markdown",
   "id": "be95b4d9",
   "metadata": {},
   "source": [
    "<h4 style='color:red;font-size:18px'>Modelling</h4>"
   ]
  },
  {
   "cell_type": "markdown",
   "id": "c1d86b38",
   "metadata": {},
   "source": [
    "<h6 style='color:blue;font-size:18px'>KNeighborsClassifier</h6>"
   ]
  },
  {
   "cell_type": "code",
   "execution_count": 516,
   "id": "d31855f5",
   "metadata": {},
   "outputs": [
    {
     "data": {
      "text/html": [
       "<style>#sk-1757ac4f-6459-40c7-9d2f-07b5ddf0465f {color: black;background-color: white;}#sk-1757ac4f-6459-40c7-9d2f-07b5ddf0465f pre{padding: 0;}#sk-1757ac4f-6459-40c7-9d2f-07b5ddf0465f div.sk-toggleable {background-color: white;}#sk-1757ac4f-6459-40c7-9d2f-07b5ddf0465f label.sk-toggleable__label {cursor: pointer;display: block;width: 100%;margin-bottom: 0;padding: 0.2em 0.3em;box-sizing: border-box;text-align: center;}#sk-1757ac4f-6459-40c7-9d2f-07b5ddf0465f div.sk-toggleable__content {max-height: 0;max-width: 0;overflow: hidden;text-align: left;background-color: #f0f8ff;}#sk-1757ac4f-6459-40c7-9d2f-07b5ddf0465f div.sk-toggleable__content pre {margin: 0.2em;color: black;border-radius: 0.25em;background-color: #f0f8ff;}#sk-1757ac4f-6459-40c7-9d2f-07b5ddf0465f input.sk-toggleable__control:checked~div.sk-toggleable__content {max-height: 200px;max-width: 100%;overflow: auto;}#sk-1757ac4f-6459-40c7-9d2f-07b5ddf0465f div.sk-estimator input.sk-toggleable__control:checked~label.sk-toggleable__label {background-color: #d4ebff;}#sk-1757ac4f-6459-40c7-9d2f-07b5ddf0465f div.sk-label input.sk-toggleable__control:checked~label.sk-toggleable__label {background-color: #d4ebff;}#sk-1757ac4f-6459-40c7-9d2f-07b5ddf0465f input.sk-hidden--visually {border: 0;clip: rect(1px 1px 1px 1px);clip: rect(1px, 1px, 1px, 1px);height: 1px;margin: -1px;overflow: hidden;padding: 0;position: absolute;width: 1px;}#sk-1757ac4f-6459-40c7-9d2f-07b5ddf0465f div.sk-estimator {font-family: monospace;background-color: #f0f8ff;margin: 0.25em 0.25em;border: 1px dotted black;border-radius: 0.25em;box-sizing: border-box;}#sk-1757ac4f-6459-40c7-9d2f-07b5ddf0465f div.sk-estimator:hover {background-color: #d4ebff;}#sk-1757ac4f-6459-40c7-9d2f-07b5ddf0465f div.sk-parallel-item::after {content: \"\";width: 100%;border-bottom: 1px solid gray;flex-grow: 1;}#sk-1757ac4f-6459-40c7-9d2f-07b5ddf0465f div.sk-label:hover label.sk-toggleable__label {background-color: #d4ebff;}#sk-1757ac4f-6459-40c7-9d2f-07b5ddf0465f div.sk-serial::before {content: \"\";position: absolute;border-left: 1px solid gray;box-sizing: border-box;top: 2em;bottom: 0;left: 50%;}#sk-1757ac4f-6459-40c7-9d2f-07b5ddf0465f div.sk-serial {display: flex;flex-direction: column;align-items: center;background-color: white;}#sk-1757ac4f-6459-40c7-9d2f-07b5ddf0465f div.sk-item {z-index: 1;}#sk-1757ac4f-6459-40c7-9d2f-07b5ddf0465f div.sk-parallel {display: flex;align-items: stretch;justify-content: center;background-color: white;}#sk-1757ac4f-6459-40c7-9d2f-07b5ddf0465f div.sk-parallel-item {display: flex;flex-direction: column;position: relative;background-color: white;}#sk-1757ac4f-6459-40c7-9d2f-07b5ddf0465f div.sk-parallel-item:first-child::after {align-self: flex-end;width: 50%;}#sk-1757ac4f-6459-40c7-9d2f-07b5ddf0465f div.sk-parallel-item:last-child::after {align-self: flex-start;width: 50%;}#sk-1757ac4f-6459-40c7-9d2f-07b5ddf0465f div.sk-parallel-item:only-child::after {width: 0;}#sk-1757ac4f-6459-40c7-9d2f-07b5ddf0465f div.sk-dashed-wrapped {border: 1px dashed gray;margin: 0.2em;box-sizing: border-box;padding-bottom: 0.1em;background-color: white;position: relative;}#sk-1757ac4f-6459-40c7-9d2f-07b5ddf0465f div.sk-label label {font-family: monospace;font-weight: bold;background-color: white;display: inline-block;line-height: 1.2em;}#sk-1757ac4f-6459-40c7-9d2f-07b5ddf0465f div.sk-label-container {position: relative;z-index: 2;text-align: center;}#sk-1757ac4f-6459-40c7-9d2f-07b5ddf0465f div.sk-container {display: inline-block;position: relative;}</style><div id=\"sk-1757ac4f-6459-40c7-9d2f-07b5ddf0465f\" class\"sk-top-container\"><div class=\"sk-container\"><div class=\"sk-item sk-dashed-wrapped\"><div class=\"sk-label-container\"><div class=\"sk-label sk-toggleable\"><input class=\"sk-toggleable__control sk-hidden--visually\" id=\"34b0c0bd-e05d-4197-bac0-a0b0cbe8a0d3\" type=\"checkbox\" ><label class=\"sk-toggleable__label\" for=\"34b0c0bd-e05d-4197-bac0-a0b0cbe8a0d3\">Pipeline</label><div class=\"sk-toggleable__content\"><pre>Pipeline(steps=[('transformer',\n",
       "                 ColumnTransformer(remainder='passthrough',\n",
       "                                   transformers=[('onehotencoder',\n",
       "                                                  OneHotEncoder(drop='if_binary'),\n",
       "                                                  ['default', 'housing',\n",
       "                                                   'loan'])])),\n",
       "                ('scale', StandardScaler()), ('knn', KNeighborsClassifier())])</pre></div></div></div><div class=\"sk-serial\"><div class=\"sk-item sk-dashed-wrapped\"><div class=\"sk-label-container\"><div class=\"sk-label sk-toggleable\"><input class=\"sk-toggleable__control sk-hidden--visually\" id=\"0241e6aa-a0a4-4bcf-8152-8b2e6a1b6ad4\" type=\"checkbox\" ><label class=\"sk-toggleable__label\" for=\"0241e6aa-a0a4-4bcf-8152-8b2e6a1b6ad4\">transformer: ColumnTransformer</label><div class=\"sk-toggleable__content\"><pre>ColumnTransformer(remainder='passthrough',\n",
       "                  transformers=[('onehotencoder',\n",
       "                                 OneHotEncoder(drop='if_binary'),\n",
       "                                 ['default', 'housing', 'loan'])])</pre></div></div></div><div class=\"sk-parallel\"><div class=\"sk-parallel-item\"><div class=\"sk-item\"><div class=\"sk-label-container\"><div class=\"sk-label sk-toggleable\"><input class=\"sk-toggleable__control sk-hidden--visually\" id=\"5954ff8f-f5c3-48a6-b6ac-d2fcf97986fd\" type=\"checkbox\" ><label class=\"sk-toggleable__label\" for=\"5954ff8f-f5c3-48a6-b6ac-d2fcf97986fd\">onehotencoder</label><div class=\"sk-toggleable__content\"><pre>['default', 'housing', 'loan']</pre></div></div></div><div class=\"sk-serial\"><div class=\"sk-item\"><div class=\"sk-estimator sk-toggleable\"><input class=\"sk-toggleable__control sk-hidden--visually\" id=\"456039ec-fe29-41e7-8728-9128d721e5bb\" type=\"checkbox\" ><label class=\"sk-toggleable__label\" for=\"456039ec-fe29-41e7-8728-9128d721e5bb\">OneHotEncoder</label><div class=\"sk-toggleable__content\"><pre>OneHotEncoder(drop='if_binary')</pre></div></div></div></div></div></div><div class=\"sk-parallel-item\"><div class=\"sk-item\"><div class=\"sk-label-container\"><div class=\"sk-label sk-toggleable\"><input class=\"sk-toggleable__control sk-hidden--visually\" id=\"83c622e4-4179-4c75-bc2d-0b2d2d88d9fb\" type=\"checkbox\" ><label class=\"sk-toggleable__label\" for=\"83c622e4-4179-4c75-bc2d-0b2d2d88d9fb\">remainder</label><div class=\"sk-toggleable__content\"><pre></pre></div></div></div><div class=\"sk-serial\"><div class=\"sk-item\"><div class=\"sk-estimator sk-toggleable\"><input class=\"sk-toggleable__control sk-hidden--visually\" id=\"49ca9429-5672-4b04-81a0-5d5babc0c3e4\" type=\"checkbox\" ><label class=\"sk-toggleable__label\" for=\"49ca9429-5672-4b04-81a0-5d5babc0c3e4\">passthrough</label><div class=\"sk-toggleable__content\"><pre>passthrough</pre></div></div></div></div></div></div></div></div><div class=\"sk-item\"><div class=\"sk-estimator sk-toggleable\"><input class=\"sk-toggleable__control sk-hidden--visually\" id=\"f075c690-796b-462a-a5e3-05a3cbefbdc1\" type=\"checkbox\" ><label class=\"sk-toggleable__label\" for=\"f075c690-796b-462a-a5e3-05a3cbefbdc1\">StandardScaler</label><div class=\"sk-toggleable__content\"><pre>StandardScaler()</pre></div></div></div><div class=\"sk-item\"><div class=\"sk-estimator sk-toggleable\"><input class=\"sk-toggleable__control sk-hidden--visually\" id=\"3e46302b-679f-4d20-bd96-dbceae2e5ad4\" type=\"checkbox\" ><label class=\"sk-toggleable__label\" for=\"3e46302b-679f-4d20-bd96-dbceae2e5ad4\">KNeighborsClassifier</label><div class=\"sk-toggleable__content\"><pre>KNeighborsClassifier()</pre></div></div></div></div></div></div></div>"
      ],
      "text/plain": [
       "Pipeline(steps=[('transformer',\n",
       "                 ColumnTransformer(remainder='passthrough',\n",
       "                                   transformers=[('onehotencoder',\n",
       "                                                  OneHotEncoder(drop='if_binary'),\n",
       "                                                  ['default', 'housing',\n",
       "                                                   'loan'])])),\n",
       "                ('scale', StandardScaler()), ('knn', KNeighborsClassifier())])"
      ]
     },
     "execution_count": 516,
     "metadata": {},
     "output_type": "execute_result"
    }
   ],
   "source": [
    "pipeline_knn=Pipeline([('transformer', ohe_transformer),('scale', StandardScaler()), ('knn', KNeighborsClassifier())])\n",
    "pipeline_knn"
   ]
  },
  {
   "cell_type": "markdown",
   "id": "842b7425",
   "metadata": {},
   "source": [
    "<h6>Hyperparameters being tested</h6>"
   ]
  },
  {
   "cell_type": "code",
   "execution_count": 517,
   "id": "185590e2",
   "metadata": {},
   "outputs": [],
   "source": [
    "param2_knn={'knn__n_neighbors':np.array(range(1,21,2)),'knn__weights' : ['uniform', 'distance'],'knn__p':[1,2]}"
   ]
  },
  {
   "cell_type": "code",
   "execution_count": 592,
   "id": "91e3cd86",
   "metadata": {},
   "outputs": [
    {
     "name": "stdout",
     "output_type": "stream",
     "text": [
      "roc_auc train:  1.000 roc_auc test:  0.852\n",
      "Tuned Hyperparameters KNearestNeighborsClassifier: {'knn__n_neighbors': 19, 'knn__p': 1, 'knn__weights': 'distance'}\n",
      "Elapsed Time using GridSearchCV:  4.287\n"
     ]
    }
   ],
   "source": [
    "precision_preds_grid_knn=GridSearchCV(pipeline_knn, param_grid=param2_knn,scoring='roc_auc',cv = 5)\n",
    "precision_preds_grid_knn.fit(X_train,y_train)\n",
    "\n",
    "\n",
    "best_score_test_knn=precision_preds_grid_knn.score(X_test,y_test)\n",
    "best_score_train_knn=precision_preds_grid_knn.score(X_train,y_train)\n",
    "best_params_precision_preds_knn=precision_preds_grid_knn.best_params_\n",
    "\n",
    "\n",
    "print(f'roc_auc train: {best_score_train_knn: .3f}',f'roc_auc test: {best_score_test_knn: .3f}')\n",
    "print(\"Tuned Hyperparameters KNearestNeighborsClassifier:\", best_params_precision_preds_knn)\n",
    "\n",
    "n_splits_knn  = precision_preds_grid_knn.n_splits_ \n",
    "n_iter_knn = pd.DataFrame(precision_preds_grid_knn.cv_results_).shape[0]\n",
    "mean_time_knn=np.mean(precision_preds_grid_knn.cv_results_['mean_fit_time'])\n",
    "print(f'Elapsed Time using GridSearchCV: {mean_time_knn * n_splits_knn * n_iter_knn: .3f}')"
   ]
  },
  {
   "cell_type": "markdown",
   "id": "7766d858",
   "metadata": {},
   "source": [
    "<h6 style='color:blue;font-size:18px'>Logistic Regression</h6>"
   ]
  },
  {
   "cell_type": "code",
   "execution_count": 519,
   "id": "3966ae2d",
   "metadata": {},
   "outputs": [
    {
     "data": {
      "text/html": [
       "<style>#sk-2068dad7-fa8b-47aa-b4f3-2c7e2e146057 {color: black;background-color: white;}#sk-2068dad7-fa8b-47aa-b4f3-2c7e2e146057 pre{padding: 0;}#sk-2068dad7-fa8b-47aa-b4f3-2c7e2e146057 div.sk-toggleable {background-color: white;}#sk-2068dad7-fa8b-47aa-b4f3-2c7e2e146057 label.sk-toggleable__label {cursor: pointer;display: block;width: 100%;margin-bottom: 0;padding: 0.2em 0.3em;box-sizing: border-box;text-align: center;}#sk-2068dad7-fa8b-47aa-b4f3-2c7e2e146057 div.sk-toggleable__content {max-height: 0;max-width: 0;overflow: hidden;text-align: left;background-color: #f0f8ff;}#sk-2068dad7-fa8b-47aa-b4f3-2c7e2e146057 div.sk-toggleable__content pre {margin: 0.2em;color: black;border-radius: 0.25em;background-color: #f0f8ff;}#sk-2068dad7-fa8b-47aa-b4f3-2c7e2e146057 input.sk-toggleable__control:checked~div.sk-toggleable__content {max-height: 200px;max-width: 100%;overflow: auto;}#sk-2068dad7-fa8b-47aa-b4f3-2c7e2e146057 div.sk-estimator input.sk-toggleable__control:checked~label.sk-toggleable__label {background-color: #d4ebff;}#sk-2068dad7-fa8b-47aa-b4f3-2c7e2e146057 div.sk-label input.sk-toggleable__control:checked~label.sk-toggleable__label {background-color: #d4ebff;}#sk-2068dad7-fa8b-47aa-b4f3-2c7e2e146057 input.sk-hidden--visually {border: 0;clip: rect(1px 1px 1px 1px);clip: rect(1px, 1px, 1px, 1px);height: 1px;margin: -1px;overflow: hidden;padding: 0;position: absolute;width: 1px;}#sk-2068dad7-fa8b-47aa-b4f3-2c7e2e146057 div.sk-estimator {font-family: monospace;background-color: #f0f8ff;margin: 0.25em 0.25em;border: 1px dotted black;border-radius: 0.25em;box-sizing: border-box;}#sk-2068dad7-fa8b-47aa-b4f3-2c7e2e146057 div.sk-estimator:hover {background-color: #d4ebff;}#sk-2068dad7-fa8b-47aa-b4f3-2c7e2e146057 div.sk-parallel-item::after {content: \"\";width: 100%;border-bottom: 1px solid gray;flex-grow: 1;}#sk-2068dad7-fa8b-47aa-b4f3-2c7e2e146057 div.sk-label:hover label.sk-toggleable__label {background-color: #d4ebff;}#sk-2068dad7-fa8b-47aa-b4f3-2c7e2e146057 div.sk-serial::before {content: \"\";position: absolute;border-left: 1px solid gray;box-sizing: border-box;top: 2em;bottom: 0;left: 50%;}#sk-2068dad7-fa8b-47aa-b4f3-2c7e2e146057 div.sk-serial {display: flex;flex-direction: column;align-items: center;background-color: white;}#sk-2068dad7-fa8b-47aa-b4f3-2c7e2e146057 div.sk-item {z-index: 1;}#sk-2068dad7-fa8b-47aa-b4f3-2c7e2e146057 div.sk-parallel {display: flex;align-items: stretch;justify-content: center;background-color: white;}#sk-2068dad7-fa8b-47aa-b4f3-2c7e2e146057 div.sk-parallel-item {display: flex;flex-direction: column;position: relative;background-color: white;}#sk-2068dad7-fa8b-47aa-b4f3-2c7e2e146057 div.sk-parallel-item:first-child::after {align-self: flex-end;width: 50%;}#sk-2068dad7-fa8b-47aa-b4f3-2c7e2e146057 div.sk-parallel-item:last-child::after {align-self: flex-start;width: 50%;}#sk-2068dad7-fa8b-47aa-b4f3-2c7e2e146057 div.sk-parallel-item:only-child::after {width: 0;}#sk-2068dad7-fa8b-47aa-b4f3-2c7e2e146057 div.sk-dashed-wrapped {border: 1px dashed gray;margin: 0.2em;box-sizing: border-box;padding-bottom: 0.1em;background-color: white;position: relative;}#sk-2068dad7-fa8b-47aa-b4f3-2c7e2e146057 div.sk-label label {font-family: monospace;font-weight: bold;background-color: white;display: inline-block;line-height: 1.2em;}#sk-2068dad7-fa8b-47aa-b4f3-2c7e2e146057 div.sk-label-container {position: relative;z-index: 2;text-align: center;}#sk-2068dad7-fa8b-47aa-b4f3-2c7e2e146057 div.sk-container {display: inline-block;position: relative;}</style><div id=\"sk-2068dad7-fa8b-47aa-b4f3-2c7e2e146057\" class\"sk-top-container\"><div class=\"sk-container\"><div class=\"sk-item sk-dashed-wrapped\"><div class=\"sk-label-container\"><div class=\"sk-label sk-toggleable\"><input class=\"sk-toggleable__control sk-hidden--visually\" id=\"1472c62d-69a4-42b3-bf4c-ad2c52e7d074\" type=\"checkbox\" ><label class=\"sk-toggleable__label\" for=\"1472c62d-69a4-42b3-bf4c-ad2c52e7d074\">Pipeline</label><div class=\"sk-toggleable__content\"><pre>Pipeline(steps=[('transformer',\n",
       "                 ColumnTransformer(remainder='passthrough',\n",
       "                                   transformers=[('onehotencoder',\n",
       "                                                  OneHotEncoder(drop='if_binary'),\n",
       "                                                  ['default', 'housing',\n",
       "                                                   'loan'])])),\n",
       "                ('scale', StandardScaler()),\n",
       "                ('log', LogisticRegression(class_weight='w', random_state=42))])</pre></div></div></div><div class=\"sk-serial\"><div class=\"sk-item sk-dashed-wrapped\"><div class=\"sk-label-container\"><div class=\"sk-label sk-toggleable\"><input class=\"sk-toggleable__control sk-hidden--visually\" id=\"88ef3733-b891-4159-b0fe-257a49e08a71\" type=\"checkbox\" ><label class=\"sk-toggleable__label\" for=\"88ef3733-b891-4159-b0fe-257a49e08a71\">transformer: ColumnTransformer</label><div class=\"sk-toggleable__content\"><pre>ColumnTransformer(remainder='passthrough',\n",
       "                  transformers=[('onehotencoder',\n",
       "                                 OneHotEncoder(drop='if_binary'),\n",
       "                                 ['default', 'housing', 'loan'])])</pre></div></div></div><div class=\"sk-parallel\"><div class=\"sk-parallel-item\"><div class=\"sk-item\"><div class=\"sk-label-container\"><div class=\"sk-label sk-toggleable\"><input class=\"sk-toggleable__control sk-hidden--visually\" id=\"34f0d308-e31b-4967-9197-829d8327bf4c\" type=\"checkbox\" ><label class=\"sk-toggleable__label\" for=\"34f0d308-e31b-4967-9197-829d8327bf4c\">onehotencoder</label><div class=\"sk-toggleable__content\"><pre>['default', 'housing', 'loan']</pre></div></div></div><div class=\"sk-serial\"><div class=\"sk-item\"><div class=\"sk-estimator sk-toggleable\"><input class=\"sk-toggleable__control sk-hidden--visually\" id=\"b80eeca2-6932-4a48-a606-3a680395c82a\" type=\"checkbox\" ><label class=\"sk-toggleable__label\" for=\"b80eeca2-6932-4a48-a606-3a680395c82a\">OneHotEncoder</label><div class=\"sk-toggleable__content\"><pre>OneHotEncoder(drop='if_binary')</pre></div></div></div></div></div></div><div class=\"sk-parallel-item\"><div class=\"sk-item\"><div class=\"sk-label-container\"><div class=\"sk-label sk-toggleable\"><input class=\"sk-toggleable__control sk-hidden--visually\" id=\"1ebaf889-b7cc-459f-8f38-62e581bb5282\" type=\"checkbox\" ><label class=\"sk-toggleable__label\" for=\"1ebaf889-b7cc-459f-8f38-62e581bb5282\">remainder</label><div class=\"sk-toggleable__content\"><pre></pre></div></div></div><div class=\"sk-serial\"><div class=\"sk-item\"><div class=\"sk-estimator sk-toggleable\"><input class=\"sk-toggleable__control sk-hidden--visually\" id=\"3b79d84f-7d0c-4fc0-b12a-329fb96c50f5\" type=\"checkbox\" ><label class=\"sk-toggleable__label\" for=\"3b79d84f-7d0c-4fc0-b12a-329fb96c50f5\">passthrough</label><div class=\"sk-toggleable__content\"><pre>passthrough</pre></div></div></div></div></div></div></div></div><div class=\"sk-item\"><div class=\"sk-estimator sk-toggleable\"><input class=\"sk-toggleable__control sk-hidden--visually\" id=\"8ae5eb6f-3275-4e0d-93ed-3285a7092908\" type=\"checkbox\" ><label class=\"sk-toggleable__label\" for=\"8ae5eb6f-3275-4e0d-93ed-3285a7092908\">StandardScaler</label><div class=\"sk-toggleable__content\"><pre>StandardScaler()</pre></div></div></div><div class=\"sk-item\"><div class=\"sk-estimator sk-toggleable\"><input class=\"sk-toggleable__control sk-hidden--visually\" id=\"f9ee200e-8236-4711-be70-24095d3cdad6\" type=\"checkbox\" ><label class=\"sk-toggleable__label\" for=\"f9ee200e-8236-4711-be70-24095d3cdad6\">LogisticRegression</label><div class=\"sk-toggleable__content\"><pre>LogisticRegression(class_weight='w', random_state=42)</pre></div></div></div></div></div></div></div>"
      ],
      "text/plain": [
       "Pipeline(steps=[('transformer',\n",
       "                 ColumnTransformer(remainder='passthrough',\n",
       "                                   transformers=[('onehotencoder',\n",
       "                                                  OneHotEncoder(drop='if_binary'),\n",
       "                                                  ['default', 'housing',\n",
       "                                                   'loan'])])),\n",
       "                ('scale', StandardScaler()),\n",
       "                ('log', LogisticRegression(class_weight='w', random_state=42))])"
      ]
     },
     "execution_count": 519,
     "metadata": {},
     "output_type": "execute_result"
    }
   ],
   "source": [
    "pipeline_lgr=Pipeline([('transformer', ohe_transformer),('scale', StandardScaler()), \n",
    "                       ('log', LogisticRegression(random_state=42, class_weight='w'))])\n",
    "pipeline_lgr"
   ]
  },
  {
   "cell_type": "markdown",
   "id": "5e12be5a",
   "metadata": {},
   "source": [
    "<h6>Hyperparameters being tested</h6>"
   ]
  },
  {
   "cell_type": "code",
   "execution_count": 520,
   "id": "1ca92846",
   "metadata": {},
   "outputs": [],
   "source": [
    "param2_lgr = {'log__penalty' : ['l1','l2'],'log__C': np.logspace(-3,3,7),\n",
    "              'log__solver': ['newton-cg', 'lbfgs', 'liblinear']}"
   ]
  },
  {
   "cell_type": "code",
   "execution_count": 593,
   "id": "ae296645",
   "metadata": {},
   "outputs": [
    {
     "name": "stdout",
     "output_type": "stream",
     "text": [
      "roc_auc train:  0.853 roc_auc test:  0.863\n",
      "Tuned Hyperparameters Logistic Regression : {'log__C': 0.01, 'log__penalty': 'l2', 'log__solver': 'newton-cg'}\n",
      "Elapsed Time using GridSearchCV:  6.342\n"
     ]
    }
   ],
   "source": [
    "pipeline_lgr=Pipeline([('transformer', ohe_transformer),('scale', StandardScaler()), ('log', LogisticRegression(random_state=42, class_weight='w'))])\n",
    "precision_preds_grid_lgr=GridSearchCV(pipeline_lgr, param_grid=param2_lgr,scoring='roc_auc',cv = 5)\n",
    "precision_preds_grid_lgr.fit(X_train,y_train)\n",
    "\n",
    "\n",
    "best_score_test_lgr=precision_preds_grid_lgr.score(X_test,y_test)\n",
    "best_score_train_lgr=precision_preds_grid_lgr.score(X_train,y_train)\n",
    "best_params_precision_preds_lgr=precision_preds_grid_lgr.best_params_\n",
    "\n",
    "print(f'roc_auc train: {best_score_train_lgr: .3f}',f'roc_auc test: {best_score_test_lgr: .3f}')\n",
    "print(\"Tuned Hyperparameters Logistic Regression :\", best_params_precision_preds_lgr)\n",
    "\n",
    "n_splits_lgr  = precision_preds_grid_lgr.n_splits_ \n",
    "n_iter_lgr = pd.DataFrame(precision_preds_grid_lgr.cv_results_).shape[0]\n",
    "mean_time_lgr=np.mean(precision_preds_grid_lgr.cv_results_['mean_fit_time'])\n",
    "print(f'Elapsed Time using GridSearchCV: {mean_time_lgr* n_splits_lgr * n_iter_lgr: .3f}')"
   ]
  },
  {
   "cell_type": "markdown",
   "id": "ab0b9545",
   "metadata": {},
   "source": [
    "<h6 style='color:blue;font-size:18px'>Support Vector Machine</h6>"
   ]
  },
  {
   "cell_type": "code",
   "execution_count": 522,
   "id": "02ef963b",
   "metadata": {},
   "outputs": [
    {
     "data": {
      "text/html": [
       "<style>#sk-d214e2d4-cd2b-4cf6-868e-fa6ab3011222 {color: black;background-color: white;}#sk-d214e2d4-cd2b-4cf6-868e-fa6ab3011222 pre{padding: 0;}#sk-d214e2d4-cd2b-4cf6-868e-fa6ab3011222 div.sk-toggleable {background-color: white;}#sk-d214e2d4-cd2b-4cf6-868e-fa6ab3011222 label.sk-toggleable__label {cursor: pointer;display: block;width: 100%;margin-bottom: 0;padding: 0.2em 0.3em;box-sizing: border-box;text-align: center;}#sk-d214e2d4-cd2b-4cf6-868e-fa6ab3011222 div.sk-toggleable__content {max-height: 0;max-width: 0;overflow: hidden;text-align: left;background-color: #f0f8ff;}#sk-d214e2d4-cd2b-4cf6-868e-fa6ab3011222 div.sk-toggleable__content pre {margin: 0.2em;color: black;border-radius: 0.25em;background-color: #f0f8ff;}#sk-d214e2d4-cd2b-4cf6-868e-fa6ab3011222 input.sk-toggleable__control:checked~div.sk-toggleable__content {max-height: 200px;max-width: 100%;overflow: auto;}#sk-d214e2d4-cd2b-4cf6-868e-fa6ab3011222 div.sk-estimator input.sk-toggleable__control:checked~label.sk-toggleable__label {background-color: #d4ebff;}#sk-d214e2d4-cd2b-4cf6-868e-fa6ab3011222 div.sk-label input.sk-toggleable__control:checked~label.sk-toggleable__label {background-color: #d4ebff;}#sk-d214e2d4-cd2b-4cf6-868e-fa6ab3011222 input.sk-hidden--visually {border: 0;clip: rect(1px 1px 1px 1px);clip: rect(1px, 1px, 1px, 1px);height: 1px;margin: -1px;overflow: hidden;padding: 0;position: absolute;width: 1px;}#sk-d214e2d4-cd2b-4cf6-868e-fa6ab3011222 div.sk-estimator {font-family: monospace;background-color: #f0f8ff;margin: 0.25em 0.25em;border: 1px dotted black;border-radius: 0.25em;box-sizing: border-box;}#sk-d214e2d4-cd2b-4cf6-868e-fa6ab3011222 div.sk-estimator:hover {background-color: #d4ebff;}#sk-d214e2d4-cd2b-4cf6-868e-fa6ab3011222 div.sk-parallel-item::after {content: \"\";width: 100%;border-bottom: 1px solid gray;flex-grow: 1;}#sk-d214e2d4-cd2b-4cf6-868e-fa6ab3011222 div.sk-label:hover label.sk-toggleable__label {background-color: #d4ebff;}#sk-d214e2d4-cd2b-4cf6-868e-fa6ab3011222 div.sk-serial::before {content: \"\";position: absolute;border-left: 1px solid gray;box-sizing: border-box;top: 2em;bottom: 0;left: 50%;}#sk-d214e2d4-cd2b-4cf6-868e-fa6ab3011222 div.sk-serial {display: flex;flex-direction: column;align-items: center;background-color: white;}#sk-d214e2d4-cd2b-4cf6-868e-fa6ab3011222 div.sk-item {z-index: 1;}#sk-d214e2d4-cd2b-4cf6-868e-fa6ab3011222 div.sk-parallel {display: flex;align-items: stretch;justify-content: center;background-color: white;}#sk-d214e2d4-cd2b-4cf6-868e-fa6ab3011222 div.sk-parallel-item {display: flex;flex-direction: column;position: relative;background-color: white;}#sk-d214e2d4-cd2b-4cf6-868e-fa6ab3011222 div.sk-parallel-item:first-child::after {align-self: flex-end;width: 50%;}#sk-d214e2d4-cd2b-4cf6-868e-fa6ab3011222 div.sk-parallel-item:last-child::after {align-self: flex-start;width: 50%;}#sk-d214e2d4-cd2b-4cf6-868e-fa6ab3011222 div.sk-parallel-item:only-child::after {width: 0;}#sk-d214e2d4-cd2b-4cf6-868e-fa6ab3011222 div.sk-dashed-wrapped {border: 1px dashed gray;margin: 0.2em;box-sizing: border-box;padding-bottom: 0.1em;background-color: white;position: relative;}#sk-d214e2d4-cd2b-4cf6-868e-fa6ab3011222 div.sk-label label {font-family: monospace;font-weight: bold;background-color: white;display: inline-block;line-height: 1.2em;}#sk-d214e2d4-cd2b-4cf6-868e-fa6ab3011222 div.sk-label-container {position: relative;z-index: 2;text-align: center;}#sk-d214e2d4-cd2b-4cf6-868e-fa6ab3011222 div.sk-container {display: inline-block;position: relative;}</style><div id=\"sk-d214e2d4-cd2b-4cf6-868e-fa6ab3011222\" class\"sk-top-container\"><div class=\"sk-container\"><div class=\"sk-item sk-dashed-wrapped\"><div class=\"sk-label-container\"><div class=\"sk-label sk-toggleable\"><input class=\"sk-toggleable__control sk-hidden--visually\" id=\"38da17f7-7d9d-4d45-b7e7-3a9e15ad75bb\" type=\"checkbox\" ><label class=\"sk-toggleable__label\" for=\"38da17f7-7d9d-4d45-b7e7-3a9e15ad75bb\">Pipeline</label><div class=\"sk-toggleable__content\"><pre>Pipeline(steps=[('transformer',\n",
       "                 ColumnTransformer(remainder='passthrough',\n",
       "                                   transformers=[('onehotencoder',\n",
       "                                                  OneHotEncoder(drop='if_binary'),\n",
       "                                                  ['default', 'housing',\n",
       "                                                   'loan'])])),\n",
       "                ('scale', StandardScaler()), ('svc', SVC(probability=True))])</pre></div></div></div><div class=\"sk-serial\"><div class=\"sk-item sk-dashed-wrapped\"><div class=\"sk-label-container\"><div class=\"sk-label sk-toggleable\"><input class=\"sk-toggleable__control sk-hidden--visually\" id=\"1bedc0a1-ac81-4a17-ac0b-5170da40d4f9\" type=\"checkbox\" ><label class=\"sk-toggleable__label\" for=\"1bedc0a1-ac81-4a17-ac0b-5170da40d4f9\">transformer: ColumnTransformer</label><div class=\"sk-toggleable__content\"><pre>ColumnTransformer(remainder='passthrough',\n",
       "                  transformers=[('onehotencoder',\n",
       "                                 OneHotEncoder(drop='if_binary'),\n",
       "                                 ['default', 'housing', 'loan'])])</pre></div></div></div><div class=\"sk-parallel\"><div class=\"sk-parallel-item\"><div class=\"sk-item\"><div class=\"sk-label-container\"><div class=\"sk-label sk-toggleable\"><input class=\"sk-toggleable__control sk-hidden--visually\" id=\"d5428ff8-c97a-40b4-9446-5a2333634873\" type=\"checkbox\" ><label class=\"sk-toggleable__label\" for=\"d5428ff8-c97a-40b4-9446-5a2333634873\">onehotencoder</label><div class=\"sk-toggleable__content\"><pre>['default', 'housing', 'loan']</pre></div></div></div><div class=\"sk-serial\"><div class=\"sk-item\"><div class=\"sk-estimator sk-toggleable\"><input class=\"sk-toggleable__control sk-hidden--visually\" id=\"14120e7a-7d69-4b5f-9b18-0e2d922ca09e\" type=\"checkbox\" ><label class=\"sk-toggleable__label\" for=\"14120e7a-7d69-4b5f-9b18-0e2d922ca09e\">OneHotEncoder</label><div class=\"sk-toggleable__content\"><pre>OneHotEncoder(drop='if_binary')</pre></div></div></div></div></div></div><div class=\"sk-parallel-item\"><div class=\"sk-item\"><div class=\"sk-label-container\"><div class=\"sk-label sk-toggleable\"><input class=\"sk-toggleable__control sk-hidden--visually\" id=\"64afaf27-c850-4af6-b06f-b0fc5eeafbd7\" type=\"checkbox\" ><label class=\"sk-toggleable__label\" for=\"64afaf27-c850-4af6-b06f-b0fc5eeafbd7\">remainder</label><div class=\"sk-toggleable__content\"><pre></pre></div></div></div><div class=\"sk-serial\"><div class=\"sk-item\"><div class=\"sk-estimator sk-toggleable\"><input class=\"sk-toggleable__control sk-hidden--visually\" id=\"6fe5409c-551c-4142-8ee9-778489973801\" type=\"checkbox\" ><label class=\"sk-toggleable__label\" for=\"6fe5409c-551c-4142-8ee9-778489973801\">passthrough</label><div class=\"sk-toggleable__content\"><pre>passthrough</pre></div></div></div></div></div></div></div></div><div class=\"sk-item\"><div class=\"sk-estimator sk-toggleable\"><input class=\"sk-toggleable__control sk-hidden--visually\" id=\"6f543645-0e5f-495b-ba5f-e66578588093\" type=\"checkbox\" ><label class=\"sk-toggleable__label\" for=\"6f543645-0e5f-495b-ba5f-e66578588093\">StandardScaler</label><div class=\"sk-toggleable__content\"><pre>StandardScaler()</pre></div></div></div><div class=\"sk-item\"><div class=\"sk-estimator sk-toggleable\"><input class=\"sk-toggleable__control sk-hidden--visually\" id=\"87980010-ecfd-450f-aa19-b2f8035e3f4e\" type=\"checkbox\" ><label class=\"sk-toggleable__label\" for=\"87980010-ecfd-450f-aa19-b2f8035e3f4e\">SVC</label><div class=\"sk-toggleable__content\"><pre>SVC(probability=True)</pre></div></div></div></div></div></div></div>"
      ],
      "text/plain": [
       "Pipeline(steps=[('transformer',\n",
       "                 ColumnTransformer(remainder='passthrough',\n",
       "                                   transformers=[('onehotencoder',\n",
       "                                                  OneHotEncoder(drop='if_binary'),\n",
       "                                                  ['default', 'housing',\n",
       "                                                   'loan'])])),\n",
       "                ('scale', StandardScaler()), ('svc', SVC(probability=True))])"
      ]
     },
     "execution_count": 522,
     "metadata": {},
     "output_type": "execute_result"
    }
   ],
   "source": [
    "pipeline_svc=Pipeline(steps=[('transformer', ohe_transformer),('scale', StandardScaler()),\n",
    "                             ('svc', SVC(probability=True))])\n",
    "pipeline_svc"
   ]
  },
  {
   "cell_type": "markdown",
   "id": "5ee97dce",
   "metadata": {},
   "source": [
    "<h6>Hyperparameters being tested</h6>"
   ]
  },
  {
   "cell_type": "code",
   "execution_count": 523,
   "id": "7b53e4dc",
   "metadata": {},
   "outputs": [],
   "source": [
    "param2_svc = {'svc__kernel': ['rbf', 'poly', 'linear','sigmoid'],'svc__gamma': [0.001,0.1, 1.0,10]}"
   ]
  },
  {
   "cell_type": "code",
   "execution_count": 594,
   "id": "29899aba",
   "metadata": {},
   "outputs": [
    {
     "name": "stdout",
     "output_type": "stream",
     "text": [
      "roc_auc train:  0.871 roc_auc test:  0.847\n",
      "Tuned Hyperparameters SVC : {'svc__gamma': 0.001, 'svc__kernel': 'rbf'}\n",
      "Elapsed Time using GridSearchCV:  423.447\n"
     ]
    }
   ],
   "source": [
    "pipeline_svc=Pipeline(steps=[('transformer', ohe_transformer),('scale', StandardScaler()),('svc', SVC(probability=True))])\n",
    "precision_preds_grid_svc=GridSearchCV(pipeline_svc, param_grid=param2_svc,scoring='roc_auc',cv=5)\n",
    "precision_preds_grid_svc.fit(X_train,y_train)\n",
    "\n",
    "\n",
    "best_score_test_svc=precision_preds_grid_svc.score(X_test,y_test)\n",
    "best_score_train_svc=precision_preds_grid_svc.score(X_train,y_train)\n",
    "best_params_precision_preds_svc=precision_preds_grid_svc.best_params_\n",
    "\n",
    "print(f'roc_auc train: {best_score_train_svc: .3f}',f'roc_auc test: {best_score_test_svc: .3f}')\n",
    "print(\"Tuned Hyperparameters SVC :\", best_params_precision_preds_svc)\n",
    "\n",
    "n_splits_svc  = precision_preds_grid_svc.n_splits_ \n",
    "n_iter_svc = pd.DataFrame(precision_preds_grid_svc.cv_results_).shape[0]\n",
    "mean_time_svc=np.mean(precision_preds_grid_svc.cv_results_['mean_fit_time'])\n",
    "print(f'Elapsed Time using GridSearchCV: {mean_time_svc * n_splits_svc * n_iter_svc: .3f}')"
   ]
  },
  {
   "cell_type": "markdown",
   "id": "145b526a",
   "metadata": {},
   "source": [
    "<h6 style='color:blue;font-size:18px'>Decision Tree</h6>"
   ]
  },
  {
   "cell_type": "code",
   "execution_count": 525,
   "id": "16fc1efe",
   "metadata": {},
   "outputs": [
    {
     "data": {
      "text/html": [
       "<style>#sk-8e4c340e-4d8f-4d77-bae8-9a1131900082 {color: black;background-color: white;}#sk-8e4c340e-4d8f-4d77-bae8-9a1131900082 pre{padding: 0;}#sk-8e4c340e-4d8f-4d77-bae8-9a1131900082 div.sk-toggleable {background-color: white;}#sk-8e4c340e-4d8f-4d77-bae8-9a1131900082 label.sk-toggleable__label {cursor: pointer;display: block;width: 100%;margin-bottom: 0;padding: 0.2em 0.3em;box-sizing: border-box;text-align: center;}#sk-8e4c340e-4d8f-4d77-bae8-9a1131900082 div.sk-toggleable__content {max-height: 0;max-width: 0;overflow: hidden;text-align: left;background-color: #f0f8ff;}#sk-8e4c340e-4d8f-4d77-bae8-9a1131900082 div.sk-toggleable__content pre {margin: 0.2em;color: black;border-radius: 0.25em;background-color: #f0f8ff;}#sk-8e4c340e-4d8f-4d77-bae8-9a1131900082 input.sk-toggleable__control:checked~div.sk-toggleable__content {max-height: 200px;max-width: 100%;overflow: auto;}#sk-8e4c340e-4d8f-4d77-bae8-9a1131900082 div.sk-estimator input.sk-toggleable__control:checked~label.sk-toggleable__label {background-color: #d4ebff;}#sk-8e4c340e-4d8f-4d77-bae8-9a1131900082 div.sk-label input.sk-toggleable__control:checked~label.sk-toggleable__label {background-color: #d4ebff;}#sk-8e4c340e-4d8f-4d77-bae8-9a1131900082 input.sk-hidden--visually {border: 0;clip: rect(1px 1px 1px 1px);clip: rect(1px, 1px, 1px, 1px);height: 1px;margin: -1px;overflow: hidden;padding: 0;position: absolute;width: 1px;}#sk-8e4c340e-4d8f-4d77-bae8-9a1131900082 div.sk-estimator {font-family: monospace;background-color: #f0f8ff;margin: 0.25em 0.25em;border: 1px dotted black;border-radius: 0.25em;box-sizing: border-box;}#sk-8e4c340e-4d8f-4d77-bae8-9a1131900082 div.sk-estimator:hover {background-color: #d4ebff;}#sk-8e4c340e-4d8f-4d77-bae8-9a1131900082 div.sk-parallel-item::after {content: \"\";width: 100%;border-bottom: 1px solid gray;flex-grow: 1;}#sk-8e4c340e-4d8f-4d77-bae8-9a1131900082 div.sk-label:hover label.sk-toggleable__label {background-color: #d4ebff;}#sk-8e4c340e-4d8f-4d77-bae8-9a1131900082 div.sk-serial::before {content: \"\";position: absolute;border-left: 1px solid gray;box-sizing: border-box;top: 2em;bottom: 0;left: 50%;}#sk-8e4c340e-4d8f-4d77-bae8-9a1131900082 div.sk-serial {display: flex;flex-direction: column;align-items: center;background-color: white;}#sk-8e4c340e-4d8f-4d77-bae8-9a1131900082 div.sk-item {z-index: 1;}#sk-8e4c340e-4d8f-4d77-bae8-9a1131900082 div.sk-parallel {display: flex;align-items: stretch;justify-content: center;background-color: white;}#sk-8e4c340e-4d8f-4d77-bae8-9a1131900082 div.sk-parallel-item {display: flex;flex-direction: column;position: relative;background-color: white;}#sk-8e4c340e-4d8f-4d77-bae8-9a1131900082 div.sk-parallel-item:first-child::after {align-self: flex-end;width: 50%;}#sk-8e4c340e-4d8f-4d77-bae8-9a1131900082 div.sk-parallel-item:last-child::after {align-self: flex-start;width: 50%;}#sk-8e4c340e-4d8f-4d77-bae8-9a1131900082 div.sk-parallel-item:only-child::after {width: 0;}#sk-8e4c340e-4d8f-4d77-bae8-9a1131900082 div.sk-dashed-wrapped {border: 1px dashed gray;margin: 0.2em;box-sizing: border-box;padding-bottom: 0.1em;background-color: white;position: relative;}#sk-8e4c340e-4d8f-4d77-bae8-9a1131900082 div.sk-label label {font-family: monospace;font-weight: bold;background-color: white;display: inline-block;line-height: 1.2em;}#sk-8e4c340e-4d8f-4d77-bae8-9a1131900082 div.sk-label-container {position: relative;z-index: 2;text-align: center;}#sk-8e4c340e-4d8f-4d77-bae8-9a1131900082 div.sk-container {display: inline-block;position: relative;}</style><div id=\"sk-8e4c340e-4d8f-4d77-bae8-9a1131900082\" class\"sk-top-container\"><div class=\"sk-container\"><div class=\"sk-item sk-dashed-wrapped\"><div class=\"sk-label-container\"><div class=\"sk-label sk-toggleable\"><input class=\"sk-toggleable__control sk-hidden--visually\" id=\"d9bd8896-145b-4777-ab67-35c5a3e693ed\" type=\"checkbox\" ><label class=\"sk-toggleable__label\" for=\"d9bd8896-145b-4777-ab67-35c5a3e693ed\">Pipeline</label><div class=\"sk-toggleable__content\"><pre>Pipeline(steps=[('transformer',\n",
       "                 ColumnTransformer(remainder='passthrough',\n",
       "                                   transformers=[('onehotencoder',\n",
       "                                                  OneHotEncoder(drop='if_binary'),\n",
       "                                                  ['default', 'housing',\n",
       "                                                   'loan'])])),\n",
       "                ('scale', StandardScaler()),\n",
       "                ('tree', DecisionTreeClassifier(random_state=42))])</pre></div></div></div><div class=\"sk-serial\"><div class=\"sk-item sk-dashed-wrapped\"><div class=\"sk-label-container\"><div class=\"sk-label sk-toggleable\"><input class=\"sk-toggleable__control sk-hidden--visually\" id=\"abc93b8e-c273-4673-87fc-995501e2420c\" type=\"checkbox\" ><label class=\"sk-toggleable__label\" for=\"abc93b8e-c273-4673-87fc-995501e2420c\">transformer: ColumnTransformer</label><div class=\"sk-toggleable__content\"><pre>ColumnTransformer(remainder='passthrough',\n",
       "                  transformers=[('onehotencoder',\n",
       "                                 OneHotEncoder(drop='if_binary'),\n",
       "                                 ['default', 'housing', 'loan'])])</pre></div></div></div><div class=\"sk-parallel\"><div class=\"sk-parallel-item\"><div class=\"sk-item\"><div class=\"sk-label-container\"><div class=\"sk-label sk-toggleable\"><input class=\"sk-toggleable__control sk-hidden--visually\" id=\"5f28049a-2d56-49b9-a433-7005e7b68c5e\" type=\"checkbox\" ><label class=\"sk-toggleable__label\" for=\"5f28049a-2d56-49b9-a433-7005e7b68c5e\">onehotencoder</label><div class=\"sk-toggleable__content\"><pre>['default', 'housing', 'loan']</pre></div></div></div><div class=\"sk-serial\"><div class=\"sk-item\"><div class=\"sk-estimator sk-toggleable\"><input class=\"sk-toggleable__control sk-hidden--visually\" id=\"e803f8ad-914d-404a-b30b-27705236ff19\" type=\"checkbox\" ><label class=\"sk-toggleable__label\" for=\"e803f8ad-914d-404a-b30b-27705236ff19\">OneHotEncoder</label><div class=\"sk-toggleable__content\"><pre>OneHotEncoder(drop='if_binary')</pre></div></div></div></div></div></div><div class=\"sk-parallel-item\"><div class=\"sk-item\"><div class=\"sk-label-container\"><div class=\"sk-label sk-toggleable\"><input class=\"sk-toggleable__control sk-hidden--visually\" id=\"b6714453-3b71-416c-9c52-381b5176c0e7\" type=\"checkbox\" ><label class=\"sk-toggleable__label\" for=\"b6714453-3b71-416c-9c52-381b5176c0e7\">remainder</label><div class=\"sk-toggleable__content\"><pre></pre></div></div></div><div class=\"sk-serial\"><div class=\"sk-item\"><div class=\"sk-estimator sk-toggleable\"><input class=\"sk-toggleable__control sk-hidden--visually\" id=\"561af5bb-668f-4e69-969f-7d5e9078ecfc\" type=\"checkbox\" ><label class=\"sk-toggleable__label\" for=\"561af5bb-668f-4e69-969f-7d5e9078ecfc\">passthrough</label><div class=\"sk-toggleable__content\"><pre>passthrough</pre></div></div></div></div></div></div></div></div><div class=\"sk-item\"><div class=\"sk-estimator sk-toggleable\"><input class=\"sk-toggleable__control sk-hidden--visually\" id=\"f52d1908-da73-4ccc-bf46-e57bffd168b6\" type=\"checkbox\" ><label class=\"sk-toggleable__label\" for=\"f52d1908-da73-4ccc-bf46-e57bffd168b6\">StandardScaler</label><div class=\"sk-toggleable__content\"><pre>StandardScaler()</pre></div></div></div><div class=\"sk-item\"><div class=\"sk-estimator sk-toggleable\"><input class=\"sk-toggleable__control sk-hidden--visually\" id=\"00fdb1ca-4a7b-4bd1-939f-4a176395dd2c\" type=\"checkbox\" ><label class=\"sk-toggleable__label\" for=\"00fdb1ca-4a7b-4bd1-939f-4a176395dd2c\">DecisionTreeClassifier</label><div class=\"sk-toggleable__content\"><pre>DecisionTreeClassifier(random_state=42)</pre></div></div></div></div></div></div></div>"
      ],
      "text/plain": [
       "Pipeline(steps=[('transformer',\n",
       "                 ColumnTransformer(remainder='passthrough',\n",
       "                                   transformers=[('onehotencoder',\n",
       "                                                  OneHotEncoder(drop='if_binary'),\n",
       "                                                  ['default', 'housing',\n",
       "                                                   'loan'])])),\n",
       "                ('scale', StandardScaler()),\n",
       "                ('tree', DecisionTreeClassifier(random_state=42))])"
      ]
     },
     "execution_count": 525,
     "metadata": {},
     "output_type": "execute_result"
    }
   ],
   "source": [
    "pipeline_tree=Pipeline(steps=[('transformer', ohe_transformer),('scale', StandardScaler()),\n",
    "                              ('tree', DecisionTreeClassifier(random_state=42))])\n",
    "pipeline_tree"
   ]
  },
  {
   "cell_type": "markdown",
   "id": "7cab1506",
   "metadata": {},
   "source": [
    "<h6>Hyperparameters being tested</h6>"
   ]
  },
  {
   "cell_type": "code",
   "execution_count": 526,
   "id": "d5dda931",
   "metadata": {},
   "outputs": [],
   "source": [
    "param2_tree = {'tree__max_depth': [i for i in range(1, 10)],'tree__min_samples_split': [0.01,0.05,0.1, 0.2, 0.25],\n",
    "               'tree__criterion': ['gini', 'entropy','log_loss'],'tree__min_samples_leaf': [i for i in range(1, 6)]}"
   ]
  },
  {
   "cell_type": "code",
   "execution_count": 595,
   "id": "f855c468",
   "metadata": {},
   "outputs": [
    {
     "name": "stdout",
     "output_type": "stream",
     "text": [
      "roc_auc train:  0.871 roc_auc test:  0.847\n",
      "Tuned Hyperparameters Decision Tree : {'tree__criterion': 'gini', 'tree__max_depth': 9, 'tree__min_samples_leaf': 5, 'tree__min_samples_split': 0.05}\n",
      "Elapsed Time using GridSearchCV:  93.143\n"
     ]
    }
   ],
   "source": [
    "tree_grid = GridSearchCV(pipeline_tree, param_grid=param2_tree,scoring='roc_auc',cv=5)\n",
    "tree_grid.fit(X_train, y_train)\n",
    "\n",
    "\n",
    "best_score_test_tree=tree_grid.score(X_test,y_test)\n",
    "best_score_train_tree=tree_grid.score(X_train,y_train)\n",
    "best_params_precision_preds_tree=tree_grid.best_params_\n",
    "\n",
    "print(f'roc_auc train: {best_score_train_svc: .3f}',f'roc_auc test: {best_score_test_svc: .3f}')\n",
    "print(\"Tuned Hyperparameters Decision Tree :\", best_params_precision_preds_tree)\n",
    "\n",
    "n_splits_tree  = tree_grid.n_splits_ \n",
    "n_iter_tree = pd.DataFrame(tree_grid.cv_results_).shape[0]\n",
    "mean_time_tree=np.mean(tree_grid.cv_results_['mean_fit_time'])\n",
    "print(f'Elapsed Time using GridSearchCV: {mean_time_tree * n_splits_tree * n_iter_tree: .3f}')"
   ]
  },
  {
   "cell_type": "markdown",
   "id": "1e20e68e",
   "metadata": {},
   "source": [
    "<h2 style=\"color:red;\">Main Conclusions & Recomendations<h2>"
   ]
  },
  {
   "cell_type": "markdown",
   "id": "da133c69",
   "metadata": {},
   "source": [
    "Following the data cleaning process, removal of outliers, and the conversion of categorical data into binary (0 and 1) values, the finalized dataset comprises 77 columns and 6316 rows. The target column \"y\" represents whether a prospective client will subscribe to a term deposit or not.\n",
    "\n",
    "In the overall evaluation, the Logistic Regression model emerges as the best classification model for the dataset under examination in this study. Nevertheless, the other three models, particularly the Decision Tree and KNeighborsClassifier, perform reasonably well.\n",
    "\n",
    "Notably, before commencing the regression modeling, the numerical variable \"balance\" was scaled by dividing it by 100. This adjustment was made because the majority of the columns predominantly contain values of 0 and 1, contributing to improvements in the model's metrics.\n",
    "\n",
    "Five numerical independent variables were included in the analysis, namely 'age,' 'balance,' 'duration,' 'previous,' 'campaign,' and 'pdays.' The 'duration' variable was utilized solely for benchmarking purposes and was subsequently excluded from the modeling phase. The remaining variables, initially nominal, were converted into binary values (0 and 1). Consequently, a significant portion of the independent variables employed in the modeling phase assumes binary values.\n",
    "\n",
    "The metric employed for optimizing the parameters of each model was 'roc_auc,' representing the area under the ROC curve. This metric is particularly suitable for handling imbalanced data, as is the case in this dataset.\n",
    "\n",
    "In addition to 'roc_auc,' the precision-recall curve was selected as an indicator, especially effective for moderate to severely imbalanced data, which accurately characterizes the dataset used in this analysis.\n",
    "\n",
    "Across all categories, including the client's age, job, marital status, education level, housing and personal loans, and communication methods, clients who subscribed to term deposits tend to maintain higher balances in their accounts."
   ]
  },
  {
   "cell_type": "code",
   "execution_count": null,
   "id": "8d310e25",
   "metadata": {},
   "outputs": [],
   "source": [
    "y_score_knn = precision_preds_grid_knn.predict_proba(X_test)[:, 1]\n",
    "y_score_lgr = precision_preds_grid_lgr.predict_proba(X_test)[:, 1]\n",
    "y_score_svc = precision_preds_grid_svc.predict_proba(X_test)[:, 1]\n",
    "y_score_tree = tree_grid.predict_proba(X_test)[:, 1]\n",
    "precision_knn, recall_knn, thresholds_knn = precision_recall_curve(y_test, y_score_knn,pos_label=\"yes\")\n",
    "precision_lgr, recall_lgr, thresholds_lgr = precision_recall_curve(y_test, y_score_lgr,pos_label=\"yes\")\n",
    "precision_svc, recall_svc, thresholds_svc = precision_recall_curve(y_test, y_score_svc,pos_label=\"yes\")\n",
    "precision_tree, recall_tree, thresholds_tree = precision_recall_curve(y_test, y_score_tree,pos_label=\"yes\")\n",
    "fig, ax = plt.subplots()\n",
    "ax.plot(recall_knn, precision_knn, color='purple',label='knn')\n",
    "ax.plot(recall_lgr, precision_lgr, color='red',label='Logistic Regression')\n",
    "ax.plot(recall_svc, precision_svc, color='blue',label='SVC')\n",
    "ax.plot(recall_tree, precision_tree, color='green',label='Decision Tree')\n",
    "\n",
    "#add axis labels to plot\n",
    "ax.set_title('Precision-Recall Curve')\n",
    "ax.set_ylabel('Precision')\n",
    "ax.set_xlabel('Recall')\n",
    "plt.legend(loc='best')\n",
    "\n",
    "#display plot:\n"
   ]
  },
  {
   "cell_type": "code",
   "execution_count": null,
   "id": "31a6c37a",
   "metadata": {},
   "outputs": [],
   "source": []
  }
 ],
 "metadata": {
  "kernelspec": {
   "display_name": "Python 2.7.8 64-bit ('2.7.8')",
   "language": "python",
   "name": "python3"
  },
  "language_info": {
   "codemirror_mode": {
    "name": "ipython",
    "version": 3
   },
   "file_extension": ".py",
   "mimetype": "text/x-python",
   "name": "python",
   "nbconvert_exporter": "python",
   "pygments_lexer": "ipython3",
   "version": "2.7.8"
  },
  "vscode": {
   "interpreter": {
    "hash": "2b4c98125af03d3535f69076fe8388eb78767cf4ce20e2c442f469083e678188"
   }
  }
 },
 "nbformat": 4,
 "nbformat_minor": 5
}
