{
 "cells": [
  {
   "cell_type": "markdown",
   "metadata": {},
   "source": [
    "# What drives the price of a car?\n",
    "\n",
    "![](images/kurt.jpeg)"
   ]
  },
  {
   "cell_type": "markdown",
   "metadata": {},
   "source": [
    "**OVERVIEW**\n",
    "\n",
    "In this application, you will explore a dataset from kaggle. The original dataset contained information on 3 million used cars. The provided dataset contains information on 426K cars to ensure speed of processing.  Your goal is to understand what factors make a car more or less expensive.  As a result of your analysis, you should provide clear recommendations to your client -- a used car dealership -- as to what consumers value in a used car."
   ]
  },
  {
   "cell_type": "markdown",
   "metadata": {},
   "source": [
    "### CRISP-DM Framework\n",
    "\n",
    "<center>\n",
    "    <img src = images/crisp.png width = 50%/>\n",
    "</center>\n",
    "\n",
    "\n",
    "To frame the task, throughout our practical applications we will refer back to a standard process in industry for data projects called CRISP-DM.  This process provides a framework for working through a data problem.  Your first step in this application will be to read through a brief overview of CRISP-DM [here](https://mo-pcco.s3.us-east-1.amazonaws.com/BH-PCMLAI/module_11/readings_starter.zip).  After reading the overview, answer the questions below."
   ]
  },
  {
   "cell_type": "markdown",
   "metadata": {},
   "source": [
    "### Business Understanding\n",
    "\n",
    "From a business perspective, we are tasked with identifying key drivers for used car prices.  In the CRISP-DM overview, we are asked to convert this business framing to a data problem definition.  Using a few sentences, reframe the task as a data task with the appropriate technical vocabulary. "
   ]
  },
  {
   "cell_type": "markdown",
   "metadata": {},
   "source": [
    "Pre-owned vehicles constitute a substantial industry, influenced by various elements determining the relative worth of one used car compared to another. To optimize earnings, a pre-owned car dealership must maintain a stock of vehicles equipped with sought-after attributes and priced competitively.Therefore analyze the data and provide clear reccommendation to clients"
   ]
  },
  {
   "cell_type": "markdown",
   "metadata": {},
   "source": [
    "### Data Understanding\n",
    "\n",
    "After considering the business understanding, we want to get familiar with our data.  Write down some steps that you would take to get to know the dataset and identify any quality issues within.  Take time to get to know the dataset and explore what information it contains and how this could be used to inform your business understanding."
   ]
  },
  {
   "cell_type": "code",
   "execution_count": 56,
   "metadata": {},
   "outputs": [],
   "source": [
    "# Referenced Python libraries\n",
    "import statsmodels.api as sm\n",
    "import matplotlib.pyplot as plt\n",
    "import pandas as pd\n",
    "import numpy as np\n",
    "import plotly.express as px\n",
    "import seaborn as sns\n",
    "import statsmodels.graphics.tsaplots as tsplots\n",
    "from sklearn.model_selection import cross_val_score\n",
    "from sklearn.model_selection import train_test_split\n",
    "from sklearn.preprocessing import LabelEncoder\n",
    "from sklearn.metrics import mean_squared_error\n",
    "from sklearn.datasets import make_blobs\n",
    "from sklearn.linear_model import LinearRegression, HuberRegressor, Lasso, Ridge\n",
    "from sklearn.model_selection import KFold, train_test_split, GridSearchCV\n",
    "from sklearn import metrics\n",
    "from sklearn.metrics import mean_squared_error, r2_score, mean_absolute_error\n",
    "from sklearn.pipeline import Pipeline\n",
    "from sklearn.feature_selection import SequentialFeatureSelector, SelectFromModel\n",
    "from sklearn.preprocessing import StandardScaler, PolynomialFeatures\n",
    "from sklearn import set_config\n",
    "import warnings\n",
    "from sklearn.preprocessing import OneHotEncoder, MinMaxScaler, StandardScaler, OrdinalEncoder\n",
    "\n",
    "warnings.filterwarnings('ignore')"
   ]
  },
  {
   "cell_type": "markdown",
   "metadata": {},
   "source": [
    "The dataset in use provides extensive details on a multitude of used car transactions.'Title_status' predominantly registers as 'clean,' potentially justifying its exclusion due to limited informative value.Numerous categorical features exist, some necessitating one-hot encoding (e.g., 'Fuel'), while others could be converted into ordinal values (e.g., 'Condition'). Categorical variables with an extensive range of values may require unique handling on a case-by-case basis.Notably, price doesn't consistently correlate with profits. It would be beneficial to gather data on the purchase prices of cars by dealerships to discern which vehicles yield higher profits.\"\n"
   ]
  },
  {
   "cell_type": "code",
   "execution_count": 34,
   "metadata": {},
   "outputs": [
    {
     "name": "stdout",
     "output_type": "stream",
     "text": [
      "<class 'pandas.core.frame.DataFrame'>\n",
      "RangeIndex: 426880 entries, 0 to 426879\n",
      "Data columns (total 18 columns):\n",
      " #   Column        Non-Null Count   Dtype  \n",
      "---  ------        --------------   -----  \n",
      " 0   id            426880 non-null  int64  \n",
      " 1   region        426880 non-null  object \n",
      " 2   price         426880 non-null  int64  \n",
      " 3   year          425675 non-null  float64\n",
      " 4   manufacturer  409234 non-null  object \n",
      " 5   model         421603 non-null  object \n",
      " 6   condition     252776 non-null  object \n",
      " 7   cylinders     249202 non-null  object \n",
      " 8   fuel          423867 non-null  object \n",
      " 9   odometer      422480 non-null  float64\n",
      " 10  title_status  418638 non-null  object \n",
      " 11  transmission  424324 non-null  object \n",
      " 12  VIN           265838 non-null  object \n",
      " 13  drive         296313 non-null  object \n",
      " 14  size          120519 non-null  object \n",
      " 15  type          334022 non-null  object \n",
      " 16  paint_color   296677 non-null  object \n",
      " 17  state         426880 non-null  object \n",
      "dtypes: float64(2), int64(2), object(14)\n",
      "memory usage: 58.6+ MB\n"
     ]
    }
   ],
   "source": [
    "cars = pd.read_csv('/Users/shaikali/Desktop/PCMLAI/Module11/practical_application_II_starter/data/vehicles.csv')\n",
    "cars.info()\n"
   ]
  },
  {
   "cell_type": "code",
   "execution_count": 35,
   "metadata": {},
   "outputs": [
    {
     "data": {
      "text/plain": [
       "Index(['id', 'region', 'price', 'year', 'manufacturer', 'model', 'condition',\n",
       "       'cylinders', 'fuel', 'odometer', 'title_status', 'transmission', 'VIN',\n",
       "       'drive', 'size', 'type', 'paint_color', 'state'],\n",
       "      dtype='object')"
      ]
     },
     "execution_count": 35,
     "metadata": {},
     "output_type": "execute_result"
    }
   ],
   "source": [
    "#Check column title\n",
    "cars.columns\n"
   ]
  },
  {
   "cell_type": "code",
   "execution_count": 36,
   "metadata": {},
   "outputs": [
    {
     "data": {
      "text/html": [
       "<div>\n",
       "<style scoped>\n",
       "    .dataframe tbody tr th:only-of-type {\n",
       "        vertical-align: middle;\n",
       "    }\n",
       "\n",
       "    .dataframe tbody tr th {\n",
       "        vertical-align: top;\n",
       "    }\n",
       "\n",
       "    .dataframe thead th {\n",
       "        text-align: right;\n",
       "    }\n",
       "</style>\n",
       "<table border=\"1\" class=\"dataframe\">\n",
       "  <thead>\n",
       "    <tr style=\"text-align: right;\">\n",
       "      <th></th>\n",
       "      <th>id</th>\n",
       "      <th>region</th>\n",
       "      <th>price</th>\n",
       "      <th>year</th>\n",
       "      <th>manufacturer</th>\n",
       "      <th>model</th>\n",
       "      <th>condition</th>\n",
       "      <th>cylinders</th>\n",
       "      <th>fuel</th>\n",
       "      <th>odometer</th>\n",
       "      <th>title_status</th>\n",
       "      <th>transmission</th>\n",
       "      <th>VIN</th>\n",
       "      <th>drive</th>\n",
       "      <th>size</th>\n",
       "      <th>type</th>\n",
       "      <th>paint_color</th>\n",
       "      <th>state</th>\n",
       "    </tr>\n",
       "  </thead>\n",
       "  <tbody>\n",
       "    <tr>\n",
       "      <th>0</th>\n",
       "      <td>7222695916</td>\n",
       "      <td>prescott</td>\n",
       "      <td>6000</td>\n",
       "      <td>NaN</td>\n",
       "      <td>NaN</td>\n",
       "      <td>NaN</td>\n",
       "      <td>NaN</td>\n",
       "      <td>NaN</td>\n",
       "      <td>NaN</td>\n",
       "      <td>NaN</td>\n",
       "      <td>NaN</td>\n",
       "      <td>NaN</td>\n",
       "      <td>NaN</td>\n",
       "      <td>NaN</td>\n",
       "      <td>NaN</td>\n",
       "      <td>NaN</td>\n",
       "      <td>NaN</td>\n",
       "      <td>az</td>\n",
       "    </tr>\n",
       "    <tr>\n",
       "      <th>1</th>\n",
       "      <td>7218891961</td>\n",
       "      <td>fayetteville</td>\n",
       "      <td>11900</td>\n",
       "      <td>NaN</td>\n",
       "      <td>NaN</td>\n",
       "      <td>NaN</td>\n",
       "      <td>NaN</td>\n",
       "      <td>NaN</td>\n",
       "      <td>NaN</td>\n",
       "      <td>NaN</td>\n",
       "      <td>NaN</td>\n",
       "      <td>NaN</td>\n",
       "      <td>NaN</td>\n",
       "      <td>NaN</td>\n",
       "      <td>NaN</td>\n",
       "      <td>NaN</td>\n",
       "      <td>NaN</td>\n",
       "      <td>ar</td>\n",
       "    </tr>\n",
       "    <tr>\n",
       "      <th>2</th>\n",
       "      <td>7221797935</td>\n",
       "      <td>florida keys</td>\n",
       "      <td>21000</td>\n",
       "      <td>NaN</td>\n",
       "      <td>NaN</td>\n",
       "      <td>NaN</td>\n",
       "      <td>NaN</td>\n",
       "      <td>NaN</td>\n",
       "      <td>NaN</td>\n",
       "      <td>NaN</td>\n",
       "      <td>NaN</td>\n",
       "      <td>NaN</td>\n",
       "      <td>NaN</td>\n",
       "      <td>NaN</td>\n",
       "      <td>NaN</td>\n",
       "      <td>NaN</td>\n",
       "      <td>NaN</td>\n",
       "      <td>fl</td>\n",
       "    </tr>\n",
       "    <tr>\n",
       "      <th>3</th>\n",
       "      <td>7222270760</td>\n",
       "      <td>worcester / central MA</td>\n",
       "      <td>1500</td>\n",
       "      <td>NaN</td>\n",
       "      <td>NaN</td>\n",
       "      <td>NaN</td>\n",
       "      <td>NaN</td>\n",
       "      <td>NaN</td>\n",
       "      <td>NaN</td>\n",
       "      <td>NaN</td>\n",
       "      <td>NaN</td>\n",
       "      <td>NaN</td>\n",
       "      <td>NaN</td>\n",
       "      <td>NaN</td>\n",
       "      <td>NaN</td>\n",
       "      <td>NaN</td>\n",
       "      <td>NaN</td>\n",
       "      <td>ma</td>\n",
       "    </tr>\n",
       "    <tr>\n",
       "      <th>4</th>\n",
       "      <td>7210384030</td>\n",
       "      <td>greensboro</td>\n",
       "      <td>4900</td>\n",
       "      <td>NaN</td>\n",
       "      <td>NaN</td>\n",
       "      <td>NaN</td>\n",
       "      <td>NaN</td>\n",
       "      <td>NaN</td>\n",
       "      <td>NaN</td>\n",
       "      <td>NaN</td>\n",
       "      <td>NaN</td>\n",
       "      <td>NaN</td>\n",
       "      <td>NaN</td>\n",
       "      <td>NaN</td>\n",
       "      <td>NaN</td>\n",
       "      <td>NaN</td>\n",
       "      <td>NaN</td>\n",
       "      <td>nc</td>\n",
       "    </tr>\n",
       "  </tbody>\n",
       "</table>\n",
       "</div>"
      ],
      "text/plain": [
       "           id                  region  price  year manufacturer model  \\\n",
       "0  7222695916                prescott   6000   NaN          NaN   NaN   \n",
       "1  7218891961            fayetteville  11900   NaN          NaN   NaN   \n",
       "2  7221797935            florida keys  21000   NaN          NaN   NaN   \n",
       "3  7222270760  worcester / central MA   1500   NaN          NaN   NaN   \n",
       "4  7210384030              greensboro   4900   NaN          NaN   NaN   \n",
       "\n",
       "  condition cylinders fuel  odometer title_status transmission  VIN drive  \\\n",
       "0       NaN       NaN  NaN       NaN          NaN          NaN  NaN   NaN   \n",
       "1       NaN       NaN  NaN       NaN          NaN          NaN  NaN   NaN   \n",
       "2       NaN       NaN  NaN       NaN          NaN          NaN  NaN   NaN   \n",
       "3       NaN       NaN  NaN       NaN          NaN          NaN  NaN   NaN   \n",
       "4       NaN       NaN  NaN       NaN          NaN          NaN  NaN   NaN   \n",
       "\n",
       "  size type paint_color state  \n",
       "0  NaN  NaN         NaN    az  \n",
       "1  NaN  NaN         NaN    ar  \n",
       "2  NaN  NaN         NaN    fl  \n",
       "3  NaN  NaN         NaN    ma  \n",
       "4  NaN  NaN         NaN    nc  "
      ]
     },
     "execution_count": 36,
     "metadata": {},
     "output_type": "execute_result"
    }
   ],
   "source": [
    "#understand data\n",
    "cars.head()\n"
   ]
  },
  {
   "cell_type": "code",
   "execution_count": 37,
   "metadata": {},
   "outputs": [
    {
     "data": {
      "text/plain": [
       "id                   0\n",
       "region               0\n",
       "price                0\n",
       "year              1205\n",
       "manufacturer     17646\n",
       "model             5277\n",
       "condition       174104\n",
       "cylinders       177678\n",
       "fuel              3013\n",
       "odometer          4400\n",
       "title_status      8242\n",
       "transmission      2556\n",
       "VIN             161042\n",
       "drive           130567\n",
       "size            306361\n",
       "type             92858\n",
       "paint_color     130203\n",
       "state                0\n",
       "dtype: int64"
      ]
     },
     "execution_count": 37,
     "metadata": {},
     "output_type": "execute_result"
    }
   ],
   "source": [
    "#Find null value count for each column\n",
    "cars.isnull().sum()\n"
   ]
  },
  {
   "cell_type": "code",
   "execution_count": 38,
   "metadata": {},
   "outputs": [
    {
     "data": {
      "text/html": [
       "<div>\n",
       "<style scoped>\n",
       "    .dataframe tbody tr th:only-of-type {\n",
       "        vertical-align: middle;\n",
       "    }\n",
       "\n",
       "    .dataframe tbody tr th {\n",
       "        vertical-align: top;\n",
       "    }\n",
       "\n",
       "    .dataframe thead th {\n",
       "        text-align: right;\n",
       "    }\n",
       "</style>\n",
       "<table border=\"1\" class=\"dataframe\">\n",
       "  <thead>\n",
       "    <tr style=\"text-align: right;\">\n",
       "      <th></th>\n",
       "      <th>id</th>\n",
       "      <th>price</th>\n",
       "      <th>year</th>\n",
       "      <th>odometer</th>\n",
       "    </tr>\n",
       "  </thead>\n",
       "  <tbody>\n",
       "    <tr>\n",
       "      <th>count</th>\n",
       "      <td>4.268800e+05</td>\n",
       "      <td>4.268800e+05</td>\n",
       "      <td>425675.000000</td>\n",
       "      <td>4.224800e+05</td>\n",
       "    </tr>\n",
       "    <tr>\n",
       "      <th>mean</th>\n",
       "      <td>7.311487e+09</td>\n",
       "      <td>7.519903e+04</td>\n",
       "      <td>2011.235191</td>\n",
       "      <td>9.804333e+04</td>\n",
       "    </tr>\n",
       "    <tr>\n",
       "      <th>std</th>\n",
       "      <td>4.473170e+06</td>\n",
       "      <td>1.218228e+07</td>\n",
       "      <td>9.452120</td>\n",
       "      <td>2.138815e+05</td>\n",
       "    </tr>\n",
       "    <tr>\n",
       "      <th>min</th>\n",
       "      <td>7.207408e+09</td>\n",
       "      <td>0.000000e+00</td>\n",
       "      <td>1900.000000</td>\n",
       "      <td>0.000000e+00</td>\n",
       "    </tr>\n",
       "    <tr>\n",
       "      <th>25%</th>\n",
       "      <td>7.308143e+09</td>\n",
       "      <td>5.900000e+03</td>\n",
       "      <td>2008.000000</td>\n",
       "      <td>3.770400e+04</td>\n",
       "    </tr>\n",
       "    <tr>\n",
       "      <th>50%</th>\n",
       "      <td>7.312621e+09</td>\n",
       "      <td>1.395000e+04</td>\n",
       "      <td>2013.000000</td>\n",
       "      <td>8.554800e+04</td>\n",
       "    </tr>\n",
       "    <tr>\n",
       "      <th>75%</th>\n",
       "      <td>7.315254e+09</td>\n",
       "      <td>2.648575e+04</td>\n",
       "      <td>2017.000000</td>\n",
       "      <td>1.335425e+05</td>\n",
       "    </tr>\n",
       "    <tr>\n",
       "      <th>max</th>\n",
       "      <td>7.317101e+09</td>\n",
       "      <td>3.736929e+09</td>\n",
       "      <td>2022.000000</td>\n",
       "      <td>1.000000e+07</td>\n",
       "    </tr>\n",
       "  </tbody>\n",
       "</table>\n",
       "</div>"
      ],
      "text/plain": [
       "                 id         price           year      odometer\n",
       "count  4.268800e+05  4.268800e+05  425675.000000  4.224800e+05\n",
       "mean   7.311487e+09  7.519903e+04    2011.235191  9.804333e+04\n",
       "std    4.473170e+06  1.218228e+07       9.452120  2.138815e+05\n",
       "min    7.207408e+09  0.000000e+00    1900.000000  0.000000e+00\n",
       "25%    7.308143e+09  5.900000e+03    2008.000000  3.770400e+04\n",
       "50%    7.312621e+09  1.395000e+04    2013.000000  8.554800e+04\n",
       "75%    7.315254e+09  2.648575e+04    2017.000000  1.335425e+05\n",
       "max    7.317101e+09  3.736929e+09    2022.000000  1.000000e+07"
      ]
     },
     "execution_count": 38,
     "metadata": {},
     "output_type": "execute_result"
    }
   ],
   "source": [
    "cars.describe()\n"
   ]
  },
  {
   "cell_type": "code",
   "execution_count": 39,
   "metadata": {},
   "outputs": [
    {
     "data": {
      "text/html": [
       "<div>\n",
       "<style scoped>\n",
       "    .dataframe tbody tr th:only-of-type {\n",
       "        vertical-align: middle;\n",
       "    }\n",
       "\n",
       "    .dataframe tbody tr th {\n",
       "        vertical-align: top;\n",
       "    }\n",
       "\n",
       "    .dataframe thead th {\n",
       "        text-align: right;\n",
       "    }\n",
       "</style>\n",
       "<table border=\"1\" class=\"dataframe\">\n",
       "  <thead>\n",
       "    <tr style=\"text-align: right;\">\n",
       "      <th></th>\n",
       "      <th>region</th>\n",
       "      <th>manufacturer</th>\n",
       "      <th>model</th>\n",
       "      <th>condition</th>\n",
       "      <th>cylinders</th>\n",
       "      <th>fuel</th>\n",
       "      <th>title_status</th>\n",
       "      <th>transmission</th>\n",
       "      <th>VIN</th>\n",
       "      <th>drive</th>\n",
       "      <th>size</th>\n",
       "      <th>type</th>\n",
       "      <th>paint_color</th>\n",
       "      <th>state</th>\n",
       "    </tr>\n",
       "  </thead>\n",
       "  <tbody>\n",
       "    <tr>\n",
       "      <th>count</th>\n",
       "      <td>426880</td>\n",
       "      <td>409234</td>\n",
       "      <td>421603</td>\n",
       "      <td>252776</td>\n",
       "      <td>249202</td>\n",
       "      <td>423867</td>\n",
       "      <td>418638</td>\n",
       "      <td>424324</td>\n",
       "      <td>265838</td>\n",
       "      <td>296313</td>\n",
       "      <td>120519</td>\n",
       "      <td>334022</td>\n",
       "      <td>296677</td>\n",
       "      <td>426880</td>\n",
       "    </tr>\n",
       "    <tr>\n",
       "      <th>unique</th>\n",
       "      <td>404</td>\n",
       "      <td>42</td>\n",
       "      <td>29649</td>\n",
       "      <td>6</td>\n",
       "      <td>8</td>\n",
       "      <td>5</td>\n",
       "      <td>6</td>\n",
       "      <td>3</td>\n",
       "      <td>118246</td>\n",
       "      <td>3</td>\n",
       "      <td>4</td>\n",
       "      <td>13</td>\n",
       "      <td>12</td>\n",
       "      <td>51</td>\n",
       "    </tr>\n",
       "    <tr>\n",
       "      <th>top</th>\n",
       "      <td>columbus</td>\n",
       "      <td>ford</td>\n",
       "      <td>f-150</td>\n",
       "      <td>good</td>\n",
       "      <td>6 cylinders</td>\n",
       "      <td>gas</td>\n",
       "      <td>clean</td>\n",
       "      <td>automatic</td>\n",
       "      <td>1FMJU1JT1HEA52352</td>\n",
       "      <td>4wd</td>\n",
       "      <td>full-size</td>\n",
       "      <td>sedan</td>\n",
       "      <td>white</td>\n",
       "      <td>ca</td>\n",
       "    </tr>\n",
       "    <tr>\n",
       "      <th>freq</th>\n",
       "      <td>3608</td>\n",
       "      <td>70985</td>\n",
       "      <td>8009</td>\n",
       "      <td>121456</td>\n",
       "      <td>94169</td>\n",
       "      <td>356209</td>\n",
       "      <td>405117</td>\n",
       "      <td>336524</td>\n",
       "      <td>261</td>\n",
       "      <td>131904</td>\n",
       "      <td>63465</td>\n",
       "      <td>87056</td>\n",
       "      <td>79285</td>\n",
       "      <td>50614</td>\n",
       "    </tr>\n",
       "  </tbody>\n",
       "</table>\n",
       "</div>"
      ],
      "text/plain": [
       "          region manufacturer   model condition    cylinders    fuel  \\\n",
       "count     426880       409234  421603    252776       249202  423867   \n",
       "unique       404           42   29649         6            8       5   \n",
       "top     columbus         ford   f-150      good  6 cylinders     gas   \n",
       "freq        3608        70985    8009    121456        94169  356209   \n",
       "\n",
       "       title_status transmission                VIN   drive       size  \\\n",
       "count        418638       424324             265838  296313     120519   \n",
       "unique            6            3             118246       3          4   \n",
       "top           clean    automatic  1FMJU1JT1HEA52352     4wd  full-size   \n",
       "freq         405117       336524                261  131904      63465   \n",
       "\n",
       "          type paint_color   state  \n",
       "count   334022      296677  426880  \n",
       "unique      13          12      51  \n",
       "top      sedan       white      ca  \n",
       "freq     87056       79285   50614  "
      ]
     },
     "execution_count": 39,
     "metadata": {},
     "output_type": "execute_result"
    }
   ],
   "source": [
    "cars.describe(include = ['object'])\n"
   ]
  },
  {
   "cell_type": "code",
   "execution_count": 40,
   "metadata": {},
   "outputs": [
    {
     "data": {
      "image/png": "[encoded data removed]",
      "text/plain": [
       "<Figure size 900x900 with 2 Axes>"
      ]
     },
     "metadata": {},
     "output_type": "display_data"
    }
   ],
   "source": [
    "#Describe data and visualize it\n",
    "cars.corr()\n",
    "plt.figure(figsize=(9,9))\n",
    "sns.heatmap(data.corr(), annot=True)\n",
    "plt.title('Correlation between the features including price')\n",
    "plt.show()"
   ]
  },
  {
   "cell_type": "code",
   "execution_count": 41,
   "metadata": {},
   "outputs": [
    {
     "data": {
      "image/png": "[encoded data removed]",
      "text/plain": [
       "<Figure size 1000x2000 with 2 Axes>"
      ]
     },
     "metadata": {},
     "output_type": "display_data"
    }
   ],
   "source": [
    "#Visualize \n",
    "def scat(x,fig):\n",
    "    plt.subplot(5,2,fig)\n",
    "    plt.scatter(cars[x],cars['price'])\n",
    "    plt.title(x+' vs Price')\n",
    "    plt.ylabel('Price')\n",
    "    plt.xlabel(x)\n",
    "\n",
    "plt.figure(figsize=(10,20))\n",
    "\n",
    "scat('year', 1)\n",
    "scat('odometer', 2)\n",
    "\n",
    "\n",
    "plt.tight_layout()"
   ]
  },
  {
   "cell_type": "markdown",
   "metadata": {},
   "source": [
    "Lesser the numbers on odometer, the more the price and positive correlation with Car year"
   ]
  },
  {
   "cell_type": "markdown",
   "metadata": {},
   "source": [
    "### Data Preparation\n",
    "\n",
    "After our initial exploration and fine tuning of the business understanding, it is time to construct our final dataset prior to modeling.  Here, we want to make sure to handle any integrity issues and cleaning, the engineering of new features, any transformations that we believe should happen (scaling, logarithms, normalization, etc.), and general preparation for modeling with `sklearn`. "
   ]
  },
  {
   "cell_type": "code",
   "execution_count": 42,
   "metadata": {},
   "outputs": [
    {
     "data": {
      "text/plain": [
       "columbus                   3608\n",
       "jacksonville               3562\n",
       "spokane / coeur d'alene    2988\n",
       "eugene                     2985\n",
       "fresno / madera            2983\n",
       "                           ... \n",
       "meridian                     28\n",
       "southwest MS                 14\n",
       "kansas city                  11\n",
       "fort smith, AR                9\n",
       "west virginia (old)           8\n",
       "Name: region, Length: 404, dtype: int64"
      ]
     },
     "execution_count": 42,
     "metadata": {},
     "output_type": "execute_result"
    }
   ],
   "source": [
    "#to examine value count for specific column\n",
    "cars['region'].value_counts()"
   ]
  },
  {
   "cell_type": "markdown",
   "metadata": {},
   "source": [
    "### DROP Missing Values"
   ]
  },
  {
   "cell_type": "code",
   "execution_count": 43,
   "metadata": {},
   "outputs": [],
   "source": [
    "#Several columns have to be dropped and have missing values dealt with\n",
    "#drop the following columns\n",
    "cars.drop(columns = ['id', 'title_status', 'VIN', 'model', 'size', 'region'], inplace = True )\n"
   ]
  },
  {
   "cell_type": "code",
   "execution_count": 44,
   "metadata": {},
   "outputs": [],
   "source": [
    "cars['manufacturer'].dropna(inplace = True)\n",
    "cars['year'].fillna(cars['year'].median(), inplace = True)\n",
    "cars['fuel'].fillna(cars['fuel'].value_counts().index[0], inplace = True)\n",
    "cars['odometer'].fillna(cars['odometer'].mean(), inplace = True)\n",
    "cars['transmission'].fillna(cars['transmission'].value_counts().index[0], inplace = True)\n",
    "cars['paint_color'].fillna(cars['paint_color'].value_counts().index[0], inplace = True)"
   ]
  },
  {
   "cell_type": "code",
   "execution_count": 45,
   "metadata": {},
   "outputs": [],
   "source": [
    "cars = cars[cars['cylinders'] != 'other']\n",
    "cars['cylinders'].fillna(0, inplace = True)\n",
    "cars = cars[cars['drive'].notna()]\n",
    "cars = cars[cars['manufacturer'].notna()]\n",
    "cars = cars[cars['type'].notna()]"
   ]
  },
  {
   "cell_type": "code",
   "execution_count": 46,
   "metadata": {},
   "outputs": [],
   "source": [
    "cars.drop(cars[cars['price'] == 0].index, inplace = True)\n"
   ]
  },
  {
   "cell_type": "code",
   "execution_count": 47,
   "metadata": {},
   "outputs": [],
   "source": [
    "cars.drop(cars[cars['price'] > 100000].index, inplace = True)\n"
   ]
  },
  {
   "cell_type": "code",
   "execution_count": 49,
   "metadata": {},
   "outputs": [
    {
     "name": "stdout",
     "output_type": "stream",
     "text": [
      "<class 'pandas.core.frame.DataFrame'>\n",
      "Int64Index: 144871 entries, 31 to 426879\n",
      "Data columns (total 12 columns):\n",
      " #   Column        Non-Null Count   Dtype  \n",
      "---  ------        --------------   -----  \n",
      " 0   price         144871 non-null  int64  \n",
      " 1   year          144871 non-null  float64\n",
      " 2   manufacturer  144871 non-null  object \n",
      " 3   condition     144871 non-null  object \n",
      " 4   cylinders     144871 non-null  object \n",
      " 5   fuel          144871 non-null  object \n",
      " 6   odometer      144871 non-null  float64\n",
      " 7   transmission  144871 non-null  object \n",
      " 8   drive         144871 non-null  object \n",
      " 9   type          144871 non-null  object \n",
      " 10  paint_color   144871 non-null  object \n",
      " 11  state         144871 non-null  object \n",
      "dtypes: float64(2), int64(1), object(9)\n",
      "memory usage: 14.4+ MB\n"
     ]
    }
   ],
   "source": [
    "cars.drop(cars[cars['year'] < 1990].index, inplace = True)\n",
    "cars.drop(cars[cars['odometer'] > 200000].index, inplace = True)\n",
    "cars.dropna(inplace = True)\n",
    "cars.info()\n"
   ]
  },
  {
   "cell_type": "code",
   "execution_count": 50,
   "metadata": {},
   "outputs": [
    {
     "name": "stdout",
     "output_type": "stream",
     "text": [
      "<class 'pandas.core.frame.DataFrame'>\n",
      "Int64Index: 144871 entries, 31 to 426879\n",
      "Data columns (total 12 columns):\n",
      " #   Column        Non-Null Count   Dtype  \n",
      "---  ------        --------------   -----  \n",
      " 0   price         144871 non-null  int64  \n",
      " 1   year          144871 non-null  float64\n",
      " 2   manufacturer  144871 non-null  object \n",
      " 3   condition     144871 non-null  object \n",
      " 4   cylinders     144871 non-null  int64  \n",
      " 5   fuel          144871 non-null  object \n",
      " 6   odometer      144871 non-null  float64\n",
      " 7   transmission  144871 non-null  object \n",
      " 8   drive         144871 non-null  object \n",
      " 9   type          144871 non-null  object \n",
      " 10  paint_color   144871 non-null  object \n",
      " 11  state         144871 non-null  object \n",
      "dtypes: float64(2), int64(2), object(8)\n",
      "memory usage: 14.4+ MB\n"
     ]
    }
   ],
   "source": [
    "#give numbers to cylinders\n",
    "## replace cylinders with numbers\n",
    "cars['cylinders'] = cars['cylinders'].replace(['0'], 0)\n",
    "cars['cylinders'] = cars['cylinders'].replace(['3 cylinders'], 3)\n",
    "cars['cylinders'] = cars['cylinders'].replace(['4 cylinders'], 4)\n",
    "cars['cylinders'] = cars['cylinders'].replace(['5 cylinders'], 5)\n",
    "cars['cylinders'] = cars['cylinders'].replace(['6 cylinders'], 6)\n",
    "cars['cylinders'] = cars['cylinders'].replace(['8 cylinders'], 8)\n",
    "cars['cylinders'] = cars['cylinders'].replace(['10 cylinders'], 10)\n",
    "cars['cylinders'] = cars['cylinders'].replace(['12 cylinders'], 12)\n",
    "cars.loc[cars['cylinders'] == 0  , 'cylinders'] = 6\n",
    "cars['cylinders'].unique()\n",
    "cars.info()"
   ]
  },
  {
   "cell_type": "code",
   "execution_count": 51,
   "metadata": {},
   "outputs": [
    {
     "data": {
      "text/html": [
       "<div>\n",
       "<style scoped>\n",
       "    .dataframe tbody tr th:only-of-type {\n",
       "        vertical-align: middle;\n",
       "    }\n",
       "\n",
       "    .dataframe tbody tr th {\n",
       "        vertical-align: top;\n",
       "    }\n",
       "\n",
       "    .dataframe thead th {\n",
       "        text-align: right;\n",
       "    }\n",
       "</style>\n",
       "<table border=\"1\" class=\"dataframe\">\n",
       "  <thead>\n",
       "    <tr style=\"text-align: right;\">\n",
       "      <th></th>\n",
       "      <th>price</th>\n",
       "      <th>year</th>\n",
       "      <th>odometer</th>\n",
       "    </tr>\n",
       "  </thead>\n",
       "  <tbody>\n",
       "    <tr>\n",
       "      <th>194594</th>\n",
       "      <td>18995</td>\n",
       "      <td>2017.0</td>\n",
       "      <td>43406.0</td>\n",
       "    </tr>\n",
       "    <tr>\n",
       "      <th>145771</th>\n",
       "      <td>19995</td>\n",
       "      <td>2013.0</td>\n",
       "      <td>145207.0</td>\n",
       "    </tr>\n",
       "    <tr>\n",
       "      <th>175158</th>\n",
       "      <td>17990</td>\n",
       "      <td>2017.0</td>\n",
       "      <td>20909.0</td>\n",
       "    </tr>\n",
       "    <tr>\n",
       "      <th>52019</th>\n",
       "      <td>11338</td>\n",
       "      <td>2014.0</td>\n",
       "      <td>101905.0</td>\n",
       "    </tr>\n",
       "    <tr>\n",
       "      <th>166818</th>\n",
       "      <td>22999</td>\n",
       "      <td>2007.0</td>\n",
       "      <td>80466.0</td>\n",
       "    </tr>\n",
       "  </tbody>\n",
       "</table>\n",
       "</div>"
      ],
      "text/plain": [
       "        price    year  odometer\n",
       "194594  18995  2017.0   43406.0\n",
       "145771  19995  2013.0  145207.0\n",
       "175158  17990  2017.0   20909.0\n",
       "52019   11338  2014.0  101905.0\n",
       "166818  22999  2007.0   80466.0"
      ]
     },
     "execution_count": 51,
     "metadata": {},
     "output_type": "execute_result"
    }
   ],
   "source": [
    "# take a random sample from dataset and make a plot\n",
    "cars_params = cars[['price', 'year', 'odometer']]\n",
    "cars_sample = cars_params.sample(n = 100, random_state = 1)\n",
    "cars_sample.head()"
   ]
  },
  {
   "cell_type": "code",
   "execution_count": 63,
   "metadata": {},
   "outputs": [
    {
     "name": "stdout",
     "output_type": "stream",
     "text": [
      "<class 'pandas.core.frame.DataFrame'>\n",
      "RangeIndex: 144871 entries, 0 to 144870\n",
      "Data columns (total 21 columns):\n",
      " #   Column                  Non-Null Count   Dtype  \n",
      "---  ------                  --------------   -----  \n",
      " 0   index                   144871 non-null  int64  \n",
      " 1   price                   144871 non-null  int64  \n",
      " 2   year                    144871 non-null  float64\n",
      " 3   manufacturer            144871 non-null  object \n",
      " 4   condition               144871 non-null  object \n",
      " 5   cylinders               144871 non-null  int64  \n",
      " 6   odometer                144871 non-null  float64\n",
      " 7   type                    144871 non-null  object \n",
      " 8   paint_color             144871 non-null  object \n",
      " 9   state                   144871 non-null  object \n",
      " 10  fuel_diesel             144871 non-null  uint8  \n",
      " 11  fuel_electric           144871 non-null  uint8  \n",
      " 12  fuel_gas                144871 non-null  uint8  \n",
      " 13  fuel_hybrid             144871 non-null  uint8  \n",
      " 14  fuel_other              144871 non-null  uint8  \n",
      " 15  transmission_automatic  144871 non-null  uint8  \n",
      " 16  transmission_manual     144871 non-null  uint8  \n",
      " 17  transmission_other      144871 non-null  uint8  \n",
      " 18  drive_4wd               144871 non-null  uint8  \n",
      " 19  drive_fwd               144871 non-null  uint8  \n",
      " 20  drive_rwd               144871 non-null  uint8  \n",
      "dtypes: float64(2), int64(3), object(5), uint8(11)\n",
      "memory usage: 12.6+ MB\n"
     ]
    }
   ],
   "source": [
    "cars_refined = pd.get_dummies(cars,columns = ['fuel', 'transmission', 'drive'])\n",
    "cars_refined = cars_refined.reset_index()\n",
    "cars_refined.info(verbose = True)\n",
    "cars_refined.drop(columns = 'index', inplace= True)"
   ]
  },
  {
   "cell_type": "code",
   "execution_count": 64,
   "metadata": {},
   "outputs": [
    {
     "name": "stdout",
     "output_type": "stream",
     "text": [
      "<class 'pandas.core.frame.DataFrame'>\n",
      "RangeIndex: 144871 entries, 0 to 144870\n",
      "Data columns (total 20 columns):\n",
      " #   Column                  Non-Null Count   Dtype  \n",
      "---  ------                  --------------   -----  \n",
      " 0   price                   144871 non-null  int64  \n",
      " 1   year                    144871 non-null  float64\n",
      " 2   manufacturer            144871 non-null  int64  \n",
      " 3   condition               144871 non-null  object \n",
      " 4   cylinders               144871 non-null  int64  \n",
      " 5   odometer                144871 non-null  float64\n",
      " 6   type                    144871 non-null  int64  \n",
      " 7   paint_color             144871 non-null  int64  \n",
      " 8   state                   144871 non-null  int64  \n",
      " 9   fuel_diesel             144871 non-null  uint8  \n",
      " 10  fuel_electric           144871 non-null  uint8  \n",
      " 11  fuel_gas                144871 non-null  uint8  \n",
      " 12  fuel_hybrid             144871 non-null  uint8  \n",
      " 13  fuel_other              144871 non-null  uint8  \n",
      " 14  transmission_automatic  144871 non-null  uint8  \n",
      " 15  transmission_manual     144871 non-null  uint8  \n",
      " 16  transmission_other      144871 non-null  uint8  \n",
      " 17  drive_4wd               144871 non-null  uint8  \n",
      " 18  drive_fwd               144871 non-null  uint8  \n",
      " 19  drive_rwd               144871 non-null  uint8  \n",
      "dtypes: float64(2), int64(6), object(1), uint8(11)\n",
      "memory usage: 11.5+ MB\n"
     ]
    }
   ],
   "source": [
    "#encoding for unique values\n",
    "from sklearn.preprocessing import LabelEncoder\n",
    "labeled_cols = ['manufacturer', 'paint_color', 'state', 'type']\n",
    "cars_refined[labeled_cols] = cars_refined[labeled_cols].apply(LabelEncoder().fit_transform)\n",
    "cars_refined.info()"
   ]
  },
  {
   "cell_type": "code",
   "execution_count": 65,
   "metadata": {},
   "outputs": [
    {
     "name": "stdout",
     "output_type": "stream",
     "text": [
      "<class 'pandas.core.frame.DataFrame'>\n",
      "RangeIndex: 144871 entries, 0 to 144870\n",
      "Data columns (total 20 columns):\n",
      " #   Column                  Non-Null Count   Dtype  \n",
      "---  ------                  --------------   -----  \n",
      " 0   price                   144871 non-null  int64  \n",
      " 1   year                    144871 non-null  float64\n",
      " 2   manufacturer            144871 non-null  int64  \n",
      " 3   condition               144871 non-null  int64  \n",
      " 4   cylinders               144871 non-null  int64  \n",
      " 5   odometer                144871 non-null  float64\n",
      " 6   type                    144871 non-null  int64  \n",
      " 7   paint_color             144871 non-null  int64  \n",
      " 8   state                   144871 non-null  int64  \n",
      " 9   fuel_diesel             144871 non-null  uint8  \n",
      " 10  fuel_electric           144871 non-null  uint8  \n",
      " 11  fuel_gas                144871 non-null  uint8  \n",
      " 12  fuel_hybrid             144871 non-null  uint8  \n",
      " 13  fuel_other              144871 non-null  uint8  \n",
      " 14  transmission_automatic  144871 non-null  uint8  \n",
      " 15  transmission_manual     144871 non-null  uint8  \n",
      " 16  transmission_other      144871 non-null  uint8  \n",
      " 17  drive_4wd               144871 non-null  uint8  \n",
      " 18  drive_fwd               144871 non-null  uint8  \n",
      " 19  drive_rwd               144871 non-null  uint8  \n",
      "dtypes: float64(2), int64(7), uint8(11)\n",
      "memory usage: 11.5 MB\n"
     ]
    }
   ],
   "source": [
    "#  Encoding for Conditions \n",
    "condition = ['salvage', 'fair', 'good', 'excellent', 'like new', 'new']\n",
    "enc = OrdinalEncoder(categories = [condition], dtype = int)\n",
    "cars_refined['condition'] = enc.fit_transform(cars[['condition']])\n",
    "cars_refined.info()\n"
   ]
  },
  {
   "cell_type": "code",
   "execution_count": 66,
   "metadata": {},
   "outputs": [
    {
     "data": {
      "text/html": [
       "<div>\n",
       "<style scoped>\n",
       "    .dataframe tbody tr th:only-of-type {\n",
       "        vertical-align: middle;\n",
       "    }\n",
       "\n",
       "    .dataframe tbody tr th {\n",
       "        vertical-align: top;\n",
       "    }\n",
       "\n",
       "    .dataframe thead th {\n",
       "        text-align: right;\n",
       "    }\n",
       "</style>\n",
       "<table border=\"1\" class=\"dataframe\">\n",
       "  <thead>\n",
       "    <tr style=\"text-align: right;\">\n",
       "      <th></th>\n",
       "      <th>price</th>\n",
       "      <th>year</th>\n",
       "      <th>manufacturer</th>\n",
       "      <th>condition</th>\n",
       "      <th>cylinders</th>\n",
       "      <th>odometer</th>\n",
       "      <th>type</th>\n",
       "      <th>paint_color</th>\n",
       "      <th>state</th>\n",
       "      <th>fuel_diesel</th>\n",
       "      <th>fuel_electric</th>\n",
       "      <th>fuel_gas</th>\n",
       "      <th>fuel_hybrid</th>\n",
       "      <th>fuel_other</th>\n",
       "      <th>transmission_automatic</th>\n",
       "      <th>transmission_manual</th>\n",
       "      <th>transmission_other</th>\n",
       "      <th>drive_4wd</th>\n",
       "      <th>drive_fwd</th>\n",
       "      <th>drive_rwd</th>\n",
       "    </tr>\n",
       "  </thead>\n",
       "  <tbody>\n",
       "    <tr>\n",
       "      <th>0</th>\n",
       "      <td>15000</td>\n",
       "      <td>2013.0</td>\n",
       "      <td>12</td>\n",
       "      <td>3</td>\n",
       "      <td>6</td>\n",
       "      <td>128000.0</td>\n",
       "      <td>10</td>\n",
       "      <td>0</td>\n",
       "      <td>1</td>\n",
       "      <td>0</td>\n",
       "      <td>0</td>\n",
       "      <td>1</td>\n",
       "      <td>0</td>\n",
       "      <td>0</td>\n",
       "      <td>1</td>\n",
       "      <td>0</td>\n",
       "      <td>0</td>\n",
       "      <td>0</td>\n",
       "      <td>0</td>\n",
       "      <td>1</td>\n",
       "    </tr>\n",
       "    <tr>\n",
       "      <th>1</th>\n",
       "      <td>27990</td>\n",
       "      <td>2012.0</td>\n",
       "      <td>13</td>\n",
       "      <td>2</td>\n",
       "      <td>8</td>\n",
       "      <td>68696.0</td>\n",
       "      <td>8</td>\n",
       "      <td>0</td>\n",
       "      <td>1</td>\n",
       "      <td>0</td>\n",
       "      <td>0</td>\n",
       "      <td>1</td>\n",
       "      <td>0</td>\n",
       "      <td>0</td>\n",
       "      <td>0</td>\n",
       "      <td>0</td>\n",
       "      <td>1</td>\n",
       "      <td>1</td>\n",
       "      <td>0</td>\n",
       "      <td>0</td>\n",
       "    </tr>\n",
       "    <tr>\n",
       "      <th>2</th>\n",
       "      <td>34590</td>\n",
       "      <td>2016.0</td>\n",
       "      <td>7</td>\n",
       "      <td>2</td>\n",
       "      <td>6</td>\n",
       "      <td>29499.0</td>\n",
       "      <td>8</td>\n",
       "      <td>9</td>\n",
       "      <td>1</td>\n",
       "      <td>0</td>\n",
       "      <td>0</td>\n",
       "      <td>1</td>\n",
       "      <td>0</td>\n",
       "      <td>0</td>\n",
       "      <td>0</td>\n",
       "      <td>0</td>\n",
       "      <td>1</td>\n",
       "      <td>1</td>\n",
       "      <td>0</td>\n",
       "      <td>0</td>\n",
       "    </tr>\n",
       "    <tr>\n",
       "      <th>3</th>\n",
       "      <td>35000</td>\n",
       "      <td>2019.0</td>\n",
       "      <td>37</td>\n",
       "      <td>3</td>\n",
       "      <td>6</td>\n",
       "      <td>43000.0</td>\n",
       "      <td>10</td>\n",
       "      <td>5</td>\n",
       "      <td>1</td>\n",
       "      <td>0</td>\n",
       "      <td>0</td>\n",
       "      <td>1</td>\n",
       "      <td>0</td>\n",
       "      <td>0</td>\n",
       "      <td>1</td>\n",
       "      <td>0</td>\n",
       "      <td>0</td>\n",
       "      <td>1</td>\n",
       "      <td>0</td>\n",
       "      <td>0</td>\n",
       "    </tr>\n",
       "    <tr>\n",
       "      <th>4</th>\n",
       "      <td>29990</td>\n",
       "      <td>2016.0</td>\n",
       "      <td>7</td>\n",
       "      <td>2</td>\n",
       "      <td>6</td>\n",
       "      <td>17302.0</td>\n",
       "      <td>8</td>\n",
       "      <td>8</td>\n",
       "      <td>1</td>\n",
       "      <td>0</td>\n",
       "      <td>0</td>\n",
       "      <td>1</td>\n",
       "      <td>0</td>\n",
       "      <td>0</td>\n",
       "      <td>0</td>\n",
       "      <td>0</td>\n",
       "      <td>1</td>\n",
       "      <td>1</td>\n",
       "      <td>0</td>\n",
       "      <td>0</td>\n",
       "    </tr>\n",
       "  </tbody>\n",
       "</table>\n",
       "</div>"
      ],
      "text/plain": [
       "   price    year  manufacturer  condition  cylinders  odometer  type  \\\n",
       "0  15000  2013.0            12          3          6  128000.0    10   \n",
       "1  27990  2012.0            13          2          8   68696.0     8   \n",
       "2  34590  2016.0             7          2          6   29499.0     8   \n",
       "3  35000  2019.0            37          3          6   43000.0    10   \n",
       "4  29990  2016.0             7          2          6   17302.0     8   \n",
       "\n",
       "   paint_color  state  fuel_diesel  fuel_electric  fuel_gas  fuel_hybrid  \\\n",
       "0            0      1            0              0         1            0   \n",
       "1            0      1            0              0         1            0   \n",
       "2            9      1            0              0         1            0   \n",
       "3            5      1            0              0         1            0   \n",
       "4            8      1            0              0         1            0   \n",
       "\n",
       "   fuel_other  transmission_automatic  transmission_manual  \\\n",
       "0           0                       1                    0   \n",
       "1           0                       0                    0   \n",
       "2           0                       0                    0   \n",
       "3           0                       1                    0   \n",
       "4           0                       0                    0   \n",
       "\n",
       "   transmission_other  drive_4wd  drive_fwd  drive_rwd  \n",
       "0                   0          0          0          1  \n",
       "1                   1          1          0          0  \n",
       "2                   1          1          0          0  \n",
       "3                   0          1          0          0  \n",
       "4                   1          1          0          0  "
      ]
     },
     "execution_count": 66,
     "metadata": {},
     "output_type": "execute_result"
    }
   ],
   "source": [
    "cars_refined.head()"
   ]
  },
  {
   "cell_type": "markdown",
   "metadata": {},
   "source": [
    "### Modeling\n",
    "\n",
    "With your (almost?) final dataset in hand, it is now time to build some models.  Here, you should build a number of different regression models with the price as the target.  In building your models, you should explore different parameters and be sure to cross-validate your findings."
   ]
  },
  {
   "cell_type": "code",
   "execution_count": null,
   "metadata": {},
   "outputs": [],
   "source": [
    "I have used the following Modeling Techniques\n",
    "Modeling Technique:\n",
    "\n",
    "Regression: Liner, Ridge, Lasso\n",
    "Scaler: SequentialFeatureSelector, Standard Scaler\n",
    "GrideSearchCV\n",
    "ridge__alpha"
   ]
  },
  {
   "cell_type": "markdown",
   "metadata": {},
   "source": [
    "# Linear Regression"
   ]
  },
  {
   "cell_type": "code",
   "execution_count": 67,
   "metadata": {},
   "outputs": [
    {
     "name": "stdout",
     "output_type": "stream",
     "text": [
      "LinearRegression: MSE All features: 60602284.22739094\n",
      "LinearRegression: Coef_ All features: [ 8.88531851e+02  2.14502310e+01  3.43639549e+02  2.13020554e+03\n",
      " -7.20391596e-02  1.73737330e+01 -1.91488360e+00 -1.12868732e+01\n",
      " -3.99382684e+05 -4.10758801e+05 -4.12722509e+05 -4.12824431e+05\n",
      " -4.10634817e+05 -6.83679899e+05 -6.81125661e+05 -6.81517682e+05\n",
      " -6.79787509e+05 -6.86175530e+05 -6.80360203e+05]\n"
     ]
    }
   ],
   "source": [
    "X = ''\n",
    "y = ''\n",
    "all_features_linreg = ''\n",
    "linreg_mse = ''\n",
    "data_model=cars_refined.copy()\n",
    "X = pd.get_dummies(data_model.drop('price', axis = 1))\n",
    "y = data_model['price']\n",
    "all_features_linreg = LinearRegression(fit_intercept=False).fit(X, y)\n",
    "linreg_mse = mean_squared_error(all_features_linreg.predict(X), y)\n",
    "\n",
    "print(f'LinearRegression: MSE All features: {linreg_mse}')\n",
    "print(f'LinearRegression: Coef_ All features: {all_features_linreg.coef_}')\n"
   ]
  },
  {
   "cell_type": "markdown",
   "metadata": {},
   "source": [
    "Observed high MSA, printing the correlation"
   ]
  },
  {
   "cell_type": "code",
   "execution_count": 69,
   "metadata": {},
   "outputs": [
    {
     "name": "stdout",
     "output_type": "stream",
     "text": [
      "price                     1.000000\n",
      "year                      0.573961\n",
      "manufacturer             -0.048122\n",
      "condition                -0.058223\n",
      "cylinders                 0.346602\n",
      "odometer                 -0.579189\n",
      "type                      0.044952\n",
      "paint_color               0.042844\n",
      "state                    -0.015047\n",
      "fuel_diesel               0.230155\n",
      "fuel_electric             0.050186\n",
      "fuel_gas                 -0.284035\n",
      "fuel_hybrid              -0.033247\n",
      "fuel_other                0.198862\n",
      "transmission_automatic   -0.345712\n",
      "transmission_manual      -0.083239\n",
      "transmission_other        0.412731\n",
      "drive_4wd                 0.205704\n",
      "drive_fwd                -0.326374\n",
      "drive_rwd                 0.143142\n",
      "dtype: float64\n"
     ]
    }
   ],
   "source": [
    "pd.set_option('display.max_rows', 200)\n",
    "price_corr = cars_refined.corrwith(cars_refined['price'])\n",
    "print(price_corr)\n",
    "\n"
   ]
  },
  {
   "cell_type": "markdown",
   "metadata": {},
   "source": [
    "# CROSS VALIDATION"
   ]
  },
  {
   "cell_type": "code",
   "execution_count": 73,
   "metadata": {},
   "outputs": [
    {
     "name": "stdout",
     "output_type": "stream",
     "text": [
      "<class 'pandas.core.frame.DataFrame'>\n",
      "<class 'pandas.core.frame.DataFrame'>\n",
      "<class 'pandas.core.frame.DataFrame'>\n"
     ]
    }
   ],
   "source": [
    "# Features and Target\n",
    "features = cars_refined.drop(columns = ['price'])\n",
    "# features = cars[['condition', 'odometer', 'cylinders', 'year']]\n",
    "features.head()\n",
    "price = cars_refined.price\n",
    "\n",
    "#scale the data\n",
    "object = StandardScaler()\n",
    "features_scaled = pd.DataFrame(object.fit_transform(features), columns = features.columns)\n",
    "print(type(features))\n",
    "print(type(features_scaled))\n",
    "\n",
    "#create training and tetsing data\n",
    "X = features_scaled\n",
    "y = price\n",
    "X_train, X_test, y_train, y_test = train_test_split(X,y,test_size=0.3,random_state=22)\n"
   ]
  },
  {
   "cell_type": "code",
   "execution_count": 74,
   "metadata": {},
   "outputs": [
    {
     "name": "stdout",
     "output_type": "stream",
     "text": [
      "Train MSE:  60258177.00\n",
      "Test MSE:  61420620.89\n"
     ]
    }
   ],
   "source": [
    "#Simple Linear Regrssion Model\n",
    "lr = LinearRegression().fit(X_train, y_train)\n",
    "model_1_train_mse = mean_squared_error(y_train, lr.predict(X_train))\n",
    "model_1_test_mse = mean_squared_error(y_test, lr.predict(X_test))\n",
    "print(f'Train MSE: {model_1_train_mse: .2f}')\n",
    "print(f'Test MSE: {model_1_test_mse: .2f}')"
   ]
  },
  {
   "cell_type": "code",
   "execution_count": 77,
   "metadata": {},
   "outputs": [
    {
     "name": "stdout",
     "output_type": "stream",
     "text": [
      "[(5107.4356943499715, 'year'), (229.84430721449417, 'manufacturer'), (287.00306083368866, 'condition'), (2982.2393311196893, 'cylinders'), (-3923.923274057463, 'odometer'), (47.14398903182949, 'type'), (-19.897796235260245, 'paint_color'), (-150.61527702005412, 'state'), (-2938679014603572.0, 'fuel_diesel'), (-1073025959209207.5, 'fuel_electric'), (-4853561650184589.0, 'fuel_gas'), (-1798386335023053.2, 'fuel_hybrid'), (-3561116293586304.5, 'fuel_other'), (-864558261581988.6, 'transmission_automatic'), (-419184139367777.75, 'transmission_manual'), (-808712020927766.5, 'transmission_other'), (1707852124395739.8, 'drive_4wd'), (1697570625114138.8, 'drive_fwd'), (1416293142270105.5, 'drive_rwd')]\n"
     ]
    }
   ],
   "source": [
    "print(list(zip(lr.coef_, X)))\n",
    "# Examining the coefficients\n",
    "coef_table = pd.DataFrame(list(X_train.columns)).copy()\n",
    "coef_table.insert(len(coef_table.columns),\"Coefs\",lr.coef_.transpose())\n",
    "coef_table.sort_values('Coefs')"
   ]
  },
  {
   "cell_type": "code",
   "execution_count": 80,
   "metadata": {},
   "outputs": [
    {
     "name": "stdout",
     "output_type": "stream",
     "text": [
      "fuel_gas  280689290914303142002688.000 +/- 1448404793542030393344.000\n",
      "fuel_other  148518923423823152807936.000 +/- 798362582810387283968.000\n",
      "fuel_diesel  105777424852372382810112.000 +/- 493939765675873533952.000\n",
      "fuel_hybrid  39281893506618461519872.000 +/- 196909164814115667968.000\n",
      "drive_4wd  34619213433616870670336.000 +/- 173543485836699336704.000\n",
      "drive_fwd  34299747686422713204736.000 +/- 168575140059739488256.000\n",
      "drive_rwd  23868876109600859881472.000 +/- 121541290815922110464.000\n",
      "fuel_electric  12913936905318550208512.000 +/- 48203585335547232256.000\n",
      "transmission_automatic  8837746517165532512256.000 +/- 40822321378066497536.000\n",
      "transmission_other  7735666014662814597120.000 +/- 28663173265090576384.000\n",
      "transmission_manual  2043671865757810556928.000 +/- 9539129503078533120.000\n",
      "year      0.308 +/- 0.003\n",
      "odometer  0.183 +/- 0.002\n",
      "cylinders  0.106 +/- 0.001\n",
      "condition  0.001 +/- 0.000\n",
      "manufacturer  0.001 +/- 0.000\n",
      "state     0.000 +/- 0.000\n",
      "type      0.000 +/- 0.000\n"
     ]
    }
   ],
   "source": [
    "from sklearn.inspection import permutation_importance\n",
    "\n",
    "r = permutation_importance(lr, X_test, y_test , n_repeats=30,random_state=0)\n",
    "for i in r.importances_mean.argsort()[::-1]:\n",
    "    if r.importances_mean[i] - 2 * r.importances_std[i] > 0:\n",
    "        print(f\"{X.columns[i]:<8}\"\n",
    "        f\"  {r.importances_mean[i]:.3f}\"\n",
    "              f\" +/- {r.importances_std[i]:.3f}\")"
   ]
  },
  {
   "cell_type": "markdown",
   "metadata": {},
   "source": [
    "The results convey that 4 WD and auto transimission scores the best"
   ]
  },
  {
   "cell_type": "markdown",
   "metadata": {},
   "source": [
    "# RIDGE REGRESSION"
   ]
  },
  {
   "cell_type": "code",
   "execution_count": 81,
   "metadata": {},
   "outputs": [
    {
     "name": "stdout",
     "output_type": "stream",
     "text": [
      "Ridge Regression: MSE All features: 60254993.5820269\n",
      "Ridge Regression: MSE All features: 61419706.454627894\n",
      "Ridge Regression: Coef_ All features: [ 5074.68042473   243.175892     246.63729722  2981.02652617\n",
      " -3929.48043444    49.18331948   -19.50204397  -151.15477254\n",
      "  2112.86486161   -68.06252616  -984.0179798   -392.25050955\n",
      "  -183.81561458  -525.41757599   297.06149588   407.72318699\n",
      "  1233.63035068 -1895.85342717   784.78588666]\n"
     ]
    }
   ],
   "source": [
    "X = ''\n",
    "y = ''\n",
    "\n",
    "data_model=cars_refined.copy()\n",
    "X = pd.get_dummies(data_model.drop('price', axis = 1))\n",
    "y = data_model['price']\n",
    "\n",
    "# Simple Ridge Regression\n",
    "ridgemodel = Ridge().fit(X_train, y_train)\n",
    "train_mse = mean_squared_error(y_train, ridgemodel.predict(X_train))\n",
    "test_mse = mean_squared_error(y_test, ridgemodel.predict(X_test))\n",
    "ridgemodel_coefs = ridgemodel.coef_\n",
    "print(f'Ridge Regression: MSE All features: {train_mse}')\n",
    "print(f'Ridge Regression: MSE All features: {test_mse}')\n",
    "print(f'Ridge Regression: Coef_ All features: {ridgemodel_coefs}')\n",
    "#print(\"cross_val_score=\",cross_val_score(ridgemodel, X_train, y_train, cv=5, scoring='neg_me"
   ]
  },
  {
   "cell_type": "markdown",
   "metadata": {},
   "source": [
    "# Ridge Regression with Standard Scaler and GridSearchCV"
   ]
  },
  {
   "cell_type": "code",
   "execution_count": 83,
   "metadata": {},
   "outputs": [
    {
     "name": "stdout",
     "output_type": "stream",
     "text": [
      "Ridge Regression with StandardScaler Train MSE: 60274702.407019064\n",
      "Ridge Regression with StandardScaler Test MSE: 61921471.70591732\n"
     ]
    },
    {
     "data": {
      "text/html": [
       "<style>#sk-container-id-2 {color: black;background-color: white;}#sk-container-id-2 pre{padding: 0;}#sk-container-id-2 div.sk-toggleable {background-color: white;}#sk-container-id-2 label.sk-toggleable__label {cursor: pointer;display: block;width: 100%;margin-bottom: 0;padding: 0.3em;box-sizing: border-box;text-align: center;}#sk-container-id-2 label.sk-toggleable__label-arrow:before {content: \"▸\";float: left;margin-right: 0.25em;color: #696969;}#sk-container-id-2 label.sk-toggleable__label-arrow:hover:before {color: black;}#sk-container-id-2 div.sk-estimator:hover label.sk-toggleable__label-arrow:before {color: black;}#sk-container-id-2 div.sk-toggleable__content {max-height: 0;max-width: 0;overflow: hidden;text-align: left;background-color: #f0f8ff;}#sk-container-id-2 div.sk-toggleable__content pre {margin: 0.2em;color: black;border-radius: 0.25em;background-color: #f0f8ff;}#sk-container-id-2 input.sk-toggleable__control:checked~div.sk-toggleable__content {max-height: 200px;max-width: 100%;overflow: auto;}#sk-container-id-2 input.sk-toggleable__control:checked~label.sk-toggleable__label-arrow:before {content: \"▾\";}#sk-container-id-2 div.sk-estimator input.sk-toggleable__control:checked~label.sk-toggleable__label {background-color: #d4ebff;}#sk-container-id-2 div.sk-label input.sk-toggleable__control:checked~label.sk-toggleable__label {background-color: #d4ebff;}#sk-container-id-2 input.sk-hidden--visually {border: 0;clip: rect(1px 1px 1px 1px);clip: rect(1px, 1px, 1px, 1px);height: 1px;margin: -1px;overflow: hidden;padding: 0;position: absolute;width: 1px;}#sk-container-id-2 div.sk-estimator {font-family: monospace;background-color: #f0f8ff;border: 1px dotted black;border-radius: 0.25em;box-sizing: border-box;margin-bottom: 0.5em;}#sk-container-id-2 div.sk-estimator:hover {background-color: #d4ebff;}#sk-container-id-2 div.sk-parallel-item::after {content: \"\";width: 100%;border-bottom: 1px solid gray;flex-grow: 1;}#sk-container-id-2 div.sk-label:hover label.sk-toggleable__label {background-color: #d4ebff;}#sk-container-id-2 div.sk-serial::before {content: \"\";position: absolute;border-left: 1px solid gray;box-sizing: border-box;top: 0;bottom: 0;left: 50%;z-index: 0;}#sk-container-id-2 div.sk-serial {display: flex;flex-direction: column;align-items: center;background-color: white;padding-right: 0.2em;padding-left: 0.2em;position: relative;}#sk-container-id-2 div.sk-item {position: relative;z-index: 1;}#sk-container-id-2 div.sk-parallel {display: flex;align-items: stretch;justify-content: center;background-color: white;position: relative;}#sk-container-id-2 div.sk-item::before, #sk-container-id-2 div.sk-parallel-item::before {content: \"\";position: absolute;border-left: 1px solid gray;box-sizing: border-box;top: 0;bottom: 0;left: 50%;z-index: -1;}#sk-container-id-2 div.sk-parallel-item {display: flex;flex-direction: column;z-index: 1;position: relative;background-color: white;}#sk-container-id-2 div.sk-parallel-item:first-child::after {align-self: flex-end;width: 50%;}#sk-container-id-2 div.sk-parallel-item:last-child::after {align-self: flex-start;width: 50%;}#sk-container-id-2 div.sk-parallel-item:only-child::after {width: 0;}#sk-container-id-2 div.sk-dashed-wrapped {border: 1px dashed gray;margin: 0 0.4em 0.5em 0.4em;box-sizing: border-box;padding-bottom: 0.4em;background-color: white;}#sk-container-id-2 div.sk-label label {font-family: monospace;font-weight: bold;display: inline-block;line-height: 1.2em;}#sk-container-id-2 div.sk-label-container {text-align: center;}#sk-container-id-2 div.sk-container {/* jupyter's `normalize.less` sets `[hidden] { display: none; }` but bootstrap.min.css set `[hidden] { display: none !important; }` so we also need the `!important` here to be able to override the default hidden behavior on the sphinx rendered scikit-learn.org. See: https://github.com/scikit-learn/scikit-learn/issues/21755 */display: inline-block !important;position: relative;}#sk-container-id-2 div.sk-text-repr-fallback {display: none;}</style><div id=\"sk-container-id-2\" class=\"sk-top-container\"><div class=\"sk-text-repr-fallback\"><pre>Pipeline(steps=[(&#x27;scaler&#x27;, StandardScaler()), (&#x27;ridge&#x27;, Ridge())])</pre><b>In a Jupyter environment, please rerun this cell to show the HTML representation or trust the notebook. <br />On GitHub, the HTML representation is unable to render, please try loading this page with nbviewer.org.</b></div><div class=\"sk-container\" hidden><div class=\"sk-item sk-dashed-wrapped\"><div class=\"sk-label-container\"><div class=\"sk-label sk-toggleable\"><input class=\"sk-toggleable__control sk-hidden--visually\" id=\"sk-estimator-id-4\" type=\"checkbox\" ><label for=\"sk-estimator-id-4\" class=\"sk-toggleable__label sk-toggleable__label-arrow\">Pipeline</label><div class=\"sk-toggleable__content\"><pre>Pipeline(steps=[(&#x27;scaler&#x27;, StandardScaler()), (&#x27;ridge&#x27;, Ridge())])</pre></div></div></div><div class=\"sk-serial\"><div class=\"sk-item\"><div class=\"sk-estimator sk-toggleable\"><input class=\"sk-toggleable__control sk-hidden--visually\" id=\"sk-estimator-id-5\" type=\"checkbox\" ><label for=\"sk-estimator-id-5\" class=\"sk-toggleable__label sk-toggleable__label-arrow\">StandardScaler</label><div class=\"sk-toggleable__content\"><pre>StandardScaler()</pre></div></div></div><div class=\"sk-item\"><div class=\"sk-estimator sk-toggleable\"><input class=\"sk-toggleable__control sk-hidden--visually\" id=\"sk-estimator-id-6\" type=\"checkbox\" ><label for=\"sk-estimator-id-6\" class=\"sk-toggleable__label sk-toggleable__label-arrow\">Ridge</label><div class=\"sk-toggleable__content\"><pre>Ridge()</pre></div></div></div></div></div></div></div>"
      ],
      "text/plain": [
       "Pipeline(steps=[('scaler', StandardScaler()), ('ridge', Ridge())])"
      ]
     },
     "execution_count": 83,
     "metadata": {},
     "output_type": "execute_result"
    }
   ],
   "source": [
    "# Ridge Regression with standard Scaler and GridSearchCV\n",
    "X_train, X_test, y_train, y_test = train_test_split(X, y, test_size = 0.20, random_state = 1)\n",
    "\n",
    "ridge_param_dict = {'ridge__alpha': np.logspace(0.1, 1, 50, 100)}\n",
    "ridge_pipe = Pipeline([('scaler', StandardScaler()), \n",
    "                      ('ridge', Ridge())])\n",
    "ridge_grid = GridSearchCV(ridge_pipe, param_grid=ridge_param_dict,scoring = 'neg_root_mean_squared_error')\n",
    "ridge_grid.fit(X_train, y_train)\n",
    "ridge_train_preds = ridge_grid.predict(X_train)\n",
    "ridge_test_preds = ridge_grid.predict(X_test)\n",
    "ridge_train_mse = mean_squared_error(y_train, ridge_train_preds)\n",
    "ridge_test_mse = mean_squared_error(y_test, ridge_test_preds)\n",
    "\n",
    "print(f'Ridge Regression with StandardScaler Train MSE: {ridge_train_mse}')\n",
    "print(f'Ridge Regression with StandardScaler Test MSE: {ridge_test_mse}')\n",
    "#print(\"cross_val_score=\",cross_val_score(ridge_pipe, X_train, y_train, cv=5, scoring='neg_mean_absolute_error').mean())\n",
    "ridge_pipe"
   ]
  },
  {
   "cell_type": "markdown",
   "metadata": {},
   "source": [
    "### Evaluation\n",
    "\n",
    "With some modeling accomplished, we aim to reflect on what we identify as a high quality model and what we are able to learn from this.  We should review our business objective and explore how well we can provide meaningful insight on drivers of used car prices.  Your goal now is to distill your findings and determine whether the earlier phases need revisitation and adjustment or if you have information of value to bring back to your client."
   ]
  },
  {
   "cell_type": "markdown",
   "metadata": {},
   "source": [
    "1. Post-modeling analysis is essential to discern the efficacy of our model and extract valuable insights.\n",
    "\n",
    "2. We must align our objectives with the goal of unraveling the factors influencing used car prices.\n",
    "\n",
    "3. Our task now involves condensing our findings and evaluating whether prior phases necessitate reevaluation and adjustment or if we've gleaned information of significance to present to the client.\n",
    "\n",
    "4. The modeling phase presented unforeseen challenges. Due to certain columns lending themselves to one-hot encoding, our dataframe expanded beyond the processing capacity of a standard home laptop, limited to 20 columns with less-than-ideal labels.\n",
    "\n",
    "5. Modeling outcomes exhibited inconsistencies, characterized by substantial errors. \n"
   ]
  },
  {
   "cell_type": "markdown",
   "metadata": {},
   "source": [
    "6. Notably, factors such as lower odometer readings, newer vehicle models, and increased cylinder count exhibited a positive correlation with price. \n",
    "\n",
    "7. Some additional features played a role, notably the preference for automatic transmissions.\n",
    "\n",
    "8. However, our confidence in providing further valuable insights from the current dataset is limited. \n",
    "\n",
    "9. We recommend collecting additional data that may exhibit stronger correlations with price, such as horsepower or fuel efficiency. \n",
    "\n",
    "10. Another ambiguity lies in distinguishing vehicles that generate the most profit from those with the highest selling prices, a crucial distinction for used car dealers.\n",
    "\n"
   ]
  },
  {
   "cell_type": "markdown",
   "metadata": {},
   "source": [
    "11. Data Assessment: Augmenting the dataset with more records would enhance the quality of our results.\n",
    "\n",
    "12. Key Observations:\n",
    "   - The vehicle's year positively correlates with its price.\n",
    "   - Odometer readings negatively impact price; lower mileage yields higher prices.\n",
    "   - Sedan-type cars, despite being the most sold, fetch lower average prices.\n",
    "\n",
    "13. Model Insights:\n",
    "   - Simple Linear Regression with dummy encoding of the 'manufacturer' column yielded the best results.\n",
    "   - Simple Linear Regression with all features emerged as the top model for price prediction.\n",
    "\n",
    "14. Review Process:\n",
    "   - Following submission, the assignment will undergo evaluation by the course instructor.\n",
    "\n",
    "15. Next Steps:\n",
    "   - With increased computational resources, exploration of a larger dataset becomes feasible.\n"
   ]
  },
  {
   "cell_type": "markdown",
   "metadata": {},
   "source": [
    "### Deployment\n",
    "\n",
    "Now that we've settled on our models and findings, it is time to deliver the information to the client.  You should organize your work as a basic report that details your primary findings.  Keep in mind that your audience is a group of used car dealers interested in fine tuning their inventory."
   ]
  },
  {
   "cell_type": "markdown",
   "metadata": {},
   "source": [
    "In my effort to optimize profits from used car sales through data collection and analysis, \n",
    "I have gained some insights. However, I acknowledge the need for more comprehensive data, particularly\n",
    "regarding past car sales profitability, which could be obtained by tracking dealers' \n",
    "purchase prices. From the available data, certain trends are evident: buyers are willing to pay higher\n",
    "prices for newer cars with lower odometer readings, automatic transmissions, and electric or hybrid vehicles. \n",
    "While other factors play a role in pricing and customer interest, their influence remains uncertain. \n",
    "Therefore, I recommend ongoing data collection to identify additional features that drive customer interest and,\n",
    "consequently, higher profits, enhancing my predictive models.\n",
    "\n"
   ]
  }
 ],
 "metadata": {
  "kernelspec": {
   "display_name": "Python 3 (ipykernel)",
   "language": "python",
   "name": "python3"
  },
  "language_info": {
   "codemirror_mode": {
    "name": "ipython",
    "version": 3
   },
   "file_extension": ".py",
   "mimetype": "text/x-python",
   "name": "python",
   "nbconvert_exporter": "python",
   "pygments_lexer": "ipython3",
   "version": "3.10.9"
  },
  "widgets": {
   "application/vnd.jupyter.widget-state+json": {
    "state": {},
    "version_major": 2,
    "version_minor": 0
   }
  }
 },
 "nbformat": 4,
 "nbformat_minor": 4
}
